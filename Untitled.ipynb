{
 "cells": [
  {
   "cell_type": "code",
   "execution_count": 1,
   "metadata": {},
   "outputs": [],
   "source": [
    "# x = {'AcceptsInsurance': False,\n",
    "#  'AgesAllowed': {\"'18plus'\", \"'19plus'\", \"'21plus'\", \"'allages'\"},\n",
    "#  'Alcohol': {\"'beer_and_wine'\", \"'full_bar'\", \"'none'\"},\n",
    "#  'Ambience_casual': False,\n",
    "#  'Ambience_classy': True,\n",
    "#  'Ambience_divey': False,\n",
    "#  'Ambience_hipster': True,\n",
    "#  'Ambience_intimate': False,\n",
    "#  'Ambience_romantic': True,\n",
    "#  'Ambience_touristy': True,\n",
    "#  'Ambience_trendy': False,\n",
    "#  'Ambience_upscale': False,\n",
    "#  'BYOB': True,\n",
    "#  'BYOBCorkage': {\"'no'\", \"'yes_corkage'\", \"'yes_free'\"},\n",
    "#  'BestNights_friday': False,\n",
    "#  'BestNights_monday': True,\n",
    "#  'BestNights_saturday': True,\n",
    "#  'BestNights_sunday': False,\n",
    "#  'BestNights_thursday': False,\n",
    "#  'BestNights_tuesday': True,\n",
    "#  'BestNights_wednesday': False,\n",
    "#  'BikeParking': False,\n",
    "#  'BusinessAcceptsBitcoin': False,\n",
    "#  'BusinessAcceptsCreditCards': False,\n",
    "#  'BusinessParking_garage': False,\n",
    "#  'BusinessParking_lot': False,\n",
    "#  'BusinessParking_street': False,\n",
    "#  'BusinessParking_valet': False,\n",
    "#  'BusinessParking_validated': False,\n",
    "#  'ByAppointmentOnly': False,\n",
    "#  'Caters': False,\n",
    "#  'CoatCheck': False,\n",
    "#  'Corkage': False,\n",
    "#  'DietaryRestrictions_dairy-free': False,\n",
    "#  'DietaryRestrictions_gluten-free': False,\n",
    "#  'DietaryRestrictions_halal': False,\n",
    "#  'DietaryRestrictions_kosher': {False},\n",
    "#  'DietaryRestrictions_soy-free': False,\n",
    "#  'DietaryRestrictions_vegan': False,\n",
    "#  'DietaryRestrictions_vegetarian': False,\n",
    "#  'DogsAllowed': False,\n",
    "#  'DriveThru': False,\n",
    "#  'GoodForDancing': False,\n",
    "#  'GoodForKids': False,\n",
    "#  'GoodForMeal_breakfast': False,\n",
    "#  'GoodForMeal_brunch': False,\n",
    "#  'GoodForMeal_dessert': False,\n",
    "#  'GoodForMeal_dinner': False,\n",
    "#  'GoodForMeal_latenight': False,\n",
    "#  'GoodForMeal_lunch': False,\n",
    "#  'HairSpecializesIn_africanamerican': False,\n",
    "#  'HairSpecializesIn_asian': False,\n",
    "#  'HairSpecializesIn_coloring': False,\n",
    "#  'HairSpecializesIn_curly': False,\n",
    "#  'HairSpecializesIn_extensions': False,\n",
    "#  'HairSpecializesIn_kids': False,\n",
    "#  'HairSpecializesIn_perms': False,\n",
    "#  'HairSpecializesIn_straightperms': False,\n",
    "#  'HappyHour': False,\n",
    "#  'HasTV': False,\n",
    "#  'Music_background_music': False,\n",
    "#  'Music_dj': False,\n",
    "#  'Music_jukebox': False,\n",
    "#  'Music_karaoke': False,\n",
    "#  'Music_live': False,\n",
    "#  'Music_no_music': {False},\n",
    "#  'Music_video': False,\n",
    "#  'NoiseLevel': {\"'average'\", \"'loud'\", \"'quiet'\", \"'very_loud'\"},\n",
    "#  'Open24Hours': False,\n",
    "#  'OutdoorSeating': False,\n",
    "#  'RestaurantsAttire': {\"'casual'\", \"'dressy'\", \"'formal'\"},\n",
    "#  'RestaurantsCounterService': False,\n",
    "#  'RestaurantsDelivery': False,\n",
    "#  'RestaurantsGoodForGroups': False,\n",
    "#  'RestaurantsPriceRange2': {'1', '2', '3', '4'},\n",
    "#  'RestaurantsReservations': False,\n",
    "#  'RestaurantsTableService': False,\n",
    "#  'RestaurantsTakeOut': False,\n",
    "#  'Smoking': {\"'no'\", \"'outdoor'\", \"'yes'\"},\n",
    "#  'WheelchairAccessible': False,\n",
    "#  'WiFi': {\"'free'\", \"'no'\", \"'paid'\"}}\n",
    "\n"
   ]
  },
  {
   "cell_type": "code",
   "execution_count": 2,
   "metadata": {},
   "outputs": [
    {
     "ename": "SyntaxError",
     "evalue": "invalid syntax (<ipython-input-2-064420497aee>, line 8)",
     "output_type": "error",
     "traceback": [
      "\u001b[0;36m  File \u001b[0;32m\"<ipython-input-2-064420497aee>\"\u001b[0;36m, line \u001b[0;32m8\u001b[0m\n\u001b[0;31m    for i in range9\u001b[0m\n\u001b[0m                   ^\u001b[0m\n\u001b[0;31mSyntaxError\u001b[0m\u001b[0;31m:\u001b[0m invalid syntax\n"
     ]
    }
   ],
   "source": [
    "def newran():\n",
    "    newx = {}\n",
    "    for i in list(x.keys()):\n",
    "#         newx[i] = True if random.randrange(0,2) == 0 else False\n",
    "        newx[i] =random.randrange(0,2)\n",
    "    return newx\n",
    "\n",
    "for i in range(0,100):\n",
    "    np.asarray(list(newran().values()))"
   ]
  },
  {
   "cell_type": "code",
   "execution_count": null,
   "metadata": {},
   "outputs": [],
   "source": []
  },
  {
   "cell_type": "code",
   "execution_count": null,
   "metadata": {},
   "outputs": [],
   "source": []
  },
  {
   "cell_type": "code",
   "execution_count": 3,
   "metadata": {},
   "outputs": [
    {
     "ename": "NameError",
     "evalue": "name '_logistic_regression_path' is not defined",
     "output_type": "error",
     "traceback": [
      "\u001b[0;31m---------------------------------------------------------------------------\u001b[0m",
      "\u001b[0;31mNameError\u001b[0m                                 Traceback (most recent call last)",
      "\u001b[0;32m<ipython-input-3-f170c8c5c8a1>\u001b[0m in \u001b[0;36m<module>\u001b[0;34m\u001b[0m\n\u001b[0;32m----> 1\u001b[0;31m \u001b[0mlrcoefs\u001b[0m \u001b[0;34m,\u001b[0m \u001b[0m_\u001b[0m \u001b[0;34m,\u001b[0m \u001b[0m_\u001b[0m \u001b[0;34m=\u001b[0m \u001b[0m_logistic_regression_path\u001b[0m\u001b[0;34m(\u001b[0m\u001b[0mX\u001b[0m \u001b[0;34m=\u001b[0m \u001b[0mvecs\u001b[0m\u001b[0;34m,\u001b[0m\u001b[0my\u001b[0m \u001b[0;34m=\u001b[0m \u001b[0mlabels\u001b[0m\u001b[0;34m,\u001b[0m\u001b[0mfit_intercept\u001b[0m \u001b[0;34m=\u001b[0m \u001b[0;32mFalse\u001b[0m\u001b[0;34m,\u001b[0m\u001b[0msolver\u001b[0m \u001b[0;34m=\u001b[0m \u001b[0;34m'newton-cg'\u001b[0m\u001b[0;34m,\u001b[0m\u001b[0mmulti_class\u001b[0m \u001b[0;34m=\u001b[0m \u001b[0;34m'ovr'\u001b[0m\u001b[0;34m,\u001b[0m\u001b[0mmax_iter\u001b[0m \u001b[0;34m=\u001b[0m \u001b[0;36m1000\u001b[0m\u001b[0;34m)\u001b[0m\u001b[0;34m\u001b[0m\u001b[0;34m\u001b[0m\u001b[0m\n\u001b[0m",
      "\u001b[0;31mNameError\u001b[0m: name '_logistic_regression_path' is not defined"
     ]
    }
   ],
   "source": [
    "lrcoefs , _ , _ = _logistic_regression_path(X = vecs,y = labels,fit_intercept = False,solver = 'newton-cg',multi_class = 'ovr',max_iter = 1000)"
   ]
  },
  {
   "cell_type": "code",
   "execution_count": null,
   "metadata": {},
   "outputs": [],
   "source": []
  }
 ],
 "metadata": {
  "kernelspec": {
   "display_name": "Python 3",
   "language": "python",
   "name": "python3"
  },
  "language_info": {
   "codemirror_mode": {
    "name": "ipython",
    "version": 3
   },
   "file_extension": ".py",
   "mimetype": "text/x-python",
   "name": "python",
   "nbconvert_exporter": "python",
   "pygments_lexer": "ipython3",
   "version": "3.7.4"
  }
 },
 "nbformat": 4,
 "nbformat_minor": 2
}
