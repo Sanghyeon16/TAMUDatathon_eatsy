{
 "cells": [
  {
   "cell_type": "code",
   "execution_count": 56,
   "metadata": {},
   "outputs": [],
   "source": [
    "import json\n",
    "import ast\n",
    "import pandas as pd\n",
    "from collections import defaultdict\n",
    "import time"
   ]
  },
  {
   "cell_type": "code",
   "execution_count": 109,
   "metadata": {},
   "outputs": [],
   "source": [
    "def businessSummary(business_id):\n",
    "#     business_dict = defaultdict(dict) \n",
    "    for line in open(\"yelp_dataset/business.json\", \"r\"): \n",
    "        curline = json.loads(line)\n",
    "        if curline['business_id'] == business_id:\n",
    "            if curline['attributes'] is not None:\n",
    "                attributes = {}\n",
    "                for j in curline['attributes'].keys():\n",
    "                    attributes[j] = ast.literal_eval(curline['attributes'][j])\n",
    "                attributes = pd.io.json.json_normalize(attributes, sep='_').to_dict(orient='records')[0]\n",
    "            else:\n",
    "                attributes = {}\n",
    "            if curline['categories'] is not None:\n",
    "                categories = {'categories': curline['categories'].split(', ')}\n",
    "            else:\n",
    "                categories = {'categories': []}\n",
    "#             categories = flattenfurther(categories)\n",
    "            categories = pd.io.json.json_normalize(categories, sep='_').to_dict(orient='records')[0]\n",
    "            attributes.update(categories)\n",
    "#             business_dict[curline['business_id']] = attributes\n",
    "            return attributes\n",
    "    newx = {}\n",
    "    for key in list(attributes.keys()):\n",
    "        if key != 'categories':\n",
    "            try:\n",
    "                valeval = ast.literal_eval(attributes[key]) \n",
    "                newx[key] = valeval\n",
    "    #             print(\"try\")\n",
    "            except:\n",
    "    #             print(\"except\")\n",
    "                newx[str(key) + '_' + str(attributes[key])] = True\n",
    "        else:\n",
    "            for cat in attributes[key]:\n",
    "                newx[str(key) + '_' + str(cat)] = True\n",
    "    return newx"
   ]
  },
  {
   "cell_type": "code",
   "execution_count": 110,
   "metadata": {
    "scrolled": true
   },
   "outputs": [],
   "source": [
    "x = businessSummary('u2q_84hHvKGl5hKnAE7zNw')"
   ]
  },
  {
   "cell_type": "code",
   "execution_count": 111,
   "metadata": {},
   "outputs": [
    {
     "data": {
      "text/plain": [
       "{'Alcohol': 'full_bar',\n",
       " 'Ambience_casual': True,\n",
       " 'Ambience_classy': False,\n",
       " 'Ambience_divey': False,\n",
       " 'Ambience_hipster': False,\n",
       " 'Ambience_intimate': False,\n",
       " 'Ambience_romantic': False,\n",
       " 'Ambience_touristy': False,\n",
       " 'Ambience_trendy': False,\n",
       " 'Ambience_upscale': False,\n",
       " 'BikeParking': True,\n",
       " 'BusinessAcceptsCreditCards': True,\n",
       " 'BusinessParking_garage': False,\n",
       " 'BusinessParking_lot': True,\n",
       " 'BusinessParking_street': False,\n",
       " 'BusinessParking_valet': False,\n",
       " 'BusinessParking_validated': False,\n",
       " 'Caters': True,\n",
       " 'GoodForKids': True,\n",
       " 'GoodForMeal_breakfast': False,\n",
       " 'GoodForMeal_brunch': False,\n",
       " 'GoodForMeal_dessert': False,\n",
       " 'GoodForMeal_dinner': True,\n",
       " 'GoodForMeal_latenight': False,\n",
       " 'GoodForMeal_lunch': True,\n",
       " 'HasTV': True,\n",
       " 'NoiseLevel': 'average',\n",
       " 'OutdoorSeating': False,\n",
       " 'RestaurantsAttire': 'casual',\n",
       " 'RestaurantsDelivery': False,\n",
       " 'RestaurantsGoodForGroups': True,\n",
       " 'RestaurantsPriceRange2': 2,\n",
       " 'RestaurantsReservations': True,\n",
       " 'RestaurantsTakeOut': True,\n",
       " 'WiFi': 'free',\n",
       " 'categories': ['Japanese', 'Sushi Bars', 'Restaurants']}"
      ]
     },
     "execution_count": 111,
     "metadata": {},
     "output_type": "execute_result"
    }
   ],
   "source": [
    "x"
   ]
  },
  {
   "cell_type": "code",
   "execution_count": null,
   "metadata": {},
   "outputs": [],
   "source": []
  }
 ],
 "metadata": {
  "kernelspec": {
   "display_name": "Python 3",
   "language": "python",
   "name": "python3"
  },
  "language_info": {
   "codemirror_mode": {
    "name": "ipython",
    "version": 3
   },
   "file_extension": ".py",
   "mimetype": "text/x-python",
   "name": "python",
   "nbconvert_exporter": "python",
   "pygments_lexer": "ipython3",
   "version": "3.7.4"
  }
 },
 "nbformat": 4,
 "nbformat_minor": 2
}
