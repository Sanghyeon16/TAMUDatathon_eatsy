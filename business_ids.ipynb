{
 "cells": [
  {
   "cell_type": "code",
   "execution_count": 46,
   "metadata": {},
   "outputs": [],
   "source": [
    "import json\n",
    "import ast\n",
    "import pandas as pd\n",
    "from collections import defaultdict\n",
    "import time"
   ]
  },
  {
   "cell_type": "code",
   "execution_count": 36,
   "metadata": {},
   "outputs": [],
   "source": [
    "json_file = open(\"yelp_dataset/business.json\", \"r\")"
   ]
  },
  {
   "cell_type": "code",
   "execution_count": 41,
   "metadata": {},
   "outputs": [],
   "source": [
    "def flattenfurther(attrs):\n",
    "    attrs = pd.io.json.json_normalize(attrs, sep='_').to_dict(orient='records')[0]\n",
    "#     to_delete = set([])\n",
    "#     to_add = set([])\n",
    "\n",
    "#     for attr in attrs:\n",
    "#         if type(attr) != list:\n",
    "#             continue\n",
    "#         for val in attrs[attr]:\n",
    "#             key = attr + '_' + val.strip('\\'')\n",
    "#             to_add.add(key)\n",
    "#         to_delete.add(attr)\n",
    "\n",
    "#     for attr in to_add:\n",
    "#         attrs[attr] = {False, True}\n",
    "\n",
    "#     for attr in to_delete:\n",
    "#         del attrs[attr]\n",
    "\n",
    "    return attrs"
   ]
  },
  {
   "cell_type": "markdown",
   "metadata": {},
   "source": [
    "192609"
   ]
  },
  {
   "cell_type": "code",
   "execution_count": 52,
   "metadata": {},
   "outputs": [
    {
     "name": "stdout",
     "output_type": "stream",
     "text": [
      "7.1980021701997315355\r"
     ]
    }
   ],
   "source": [
    "business_dict = defaultdict(dict) \n",
    "i = 0\n",
    "for line in json_file: \n",
    "    curline = json.loads(line)\n",
    "    if curline['attributes'] is not None:\n",
    "        attributes = {}\n",
    "        for j in curline['attributes'].keys():\n",
    "            attributes[j] = ast.literal_eval(curline['attributes'][j])\n",
    "        attributes = pd.io.json.json_normalize(attributes, sep='_').to_dict(orient='records')[0]\n",
    "    else:\n",
    "        attributes = {}\n",
    "    if curline['categories'] is not None:\n",
    "        categories = {'categories': curline['categories'].split(', ')}\n",
    "    else:\n",
    "        categories = {'categories': []}\n",
    "    categories = flattenfurther(categories)\n",
    "    categories = pd.io.json.json_normalize(categories, sep='_').to_dict(orient='records')[0]\n",
    "    business_dict[curline['business_id']] = attributes\n",
    "    i+=1\n",
    "    print((i/192609)*100,end='\\r')"
   ]
  },
  {
   "cell_type": "code",
   "execution_count": 53,
   "metadata": {
    "scrolled": true
   },
   "outputs": [],
   "source": [
    "x = business_dict['u2q_84hHvKGl5hKnAE7zNw']"
   ]
  },
  {
   "cell_type": "code",
   "execution_count": 54,
   "metadata": {},
   "outputs": [],
   "source": [
    "newx = {}\n",
    "for key in list(x.keys()):\n",
    "    if key != 'categories':\n",
    "        try:\n",
    "            valeval = ast.literal_eval(x[key]) \n",
    "            newx[key] = valeval\n",
    "        except:\n",
    "            newx[str(key) + '_' + str(x[key])] = True\n",
    "    else:\n",
    "        newx[key] = x[key]"
   ]
  },
  {
   "cell_type": "code",
   "execution_count": 55,
   "metadata": {},
   "outputs": [
    {
     "data": {
      "text/plain": [
       "{}"
      ]
     },
     "execution_count": 55,
     "metadata": {},
     "output_type": "execute_result"
    }
   ],
   "source": [
    "newx"
   ]
  },
  {
   "cell_type": "code",
   "execution_count": null,
   "metadata": {},
   "outputs": [],
   "source": []
  }
 ],
 "metadata": {
  "kernelspec": {
   "display_name": "Python 3",
   "language": "python",
   "name": "python3"
  },
  "language_info": {
   "codemirror_mode": {
    "name": "ipython",
    "version": 3
   },
   "file_extension": ".py",
   "mimetype": "text/x-python",
   "name": "python",
   "nbconvert_exporter": "python",
   "pygments_lexer": "ipython3",
   "version": "3.7.4"
  }
 },
 "nbformat": 4,
 "nbformat_minor": 2
}
