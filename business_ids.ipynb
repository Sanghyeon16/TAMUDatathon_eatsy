{
 "cells": [
  {
   "cell_type": "code",
   "execution_count": 10,
   "metadata": {},
   "outputs": [],
   "source": [
    "import json\n",
    "import ast\n",
    "import pandas as pd\n",
    "from collections import defaultdict\n",
    "import time"
   ]
  },
  {
   "cell_type": "code",
   "execution_count": 11,
   "metadata": {},
   "outputs": [],
   "source": [
    "json_file = open(\"yelp_dataset/business.json\", \"r\")"
   ]
  },
  {
   "cell_type": "code",
   "execution_count": 12,
   "metadata": {},
   "outputs": [],
   "source": [
    "def flattenfurther(attrs):\n",
    "    attrs = pd.io.json.json_normalize(attrs, sep='_').to_dict(orient='records')[0]\n",
    "#     to_delete = set([])\n",
    "#     to_add = set([])\n",
    "\n",
    "#     for attr in attrs:\n",
    "#         if type(attr) != list:\n",
    "#             continue\n",
    "#         for val in attrs[attr]:\n",
    "#             key = attr + '_' + val.strip('\\'')\n",
    "#             to_add.add(key)\n",
    "#         to_delete.add(attr)\n",
    "\n",
    "#     for attr in to_add:\n",
    "#         attrs[attr] = {False, True}\n",
    "\n",
    "#     for attr in to_delete:\n",
    "#         del attrs[attr]\n",
    "\n",
    "    return attrs"
   ]
  },
  {
   "cell_type": "markdown",
   "metadata": {},
   "source": [
    "192609"
   ]
  },
  {
   "cell_type": "code",
   "execution_count": 13,
   "metadata": {},
   "outputs": [],
   "source": [
    "def businessSummary(business_id):\n",
    "    business_dict = defaultdict(dict) \n",
    "    for line in json_file: \n",
    "        curline = json.loads(line)\n",
    "        if curline['business_id'] == business_id:\n",
    "            if curline['attributes'] is not None:\n",
    "                attributes = {}\n",
    "                for j in curline['attributes'].keys():\n",
    "                    attributes[j] = ast.literal_eval(curline['attributes'][j])\n",
    "                attributes = pd.io.json.json_normalize(attributes, sep='_').to_dict(orient='records')[0]\n",
    "            else:\n",
    "                attributes = {}\n",
    "            if curline['categories'] is not None:\n",
    "                categories = {'categories': curline['categories'].split(', ')}\n",
    "            else:\n",
    "                categories = {'categories': []}\n",
    "            categories = flattenfurther(categories)\n",
    "            categories = pd.io.json.json_normalize(categories, sep='_').to_dict(orient='records')[0]\n",
    "            business_dict[curline['business_id']] = attributes\n",
    "            return business_dict"
   ]
  },
  {
   "cell_type": "code",
   "execution_count": 14,
   "metadata": {
    "scrolled": true
   },
   "outputs": [],
   "source": [
    "x = businessSummary('u2q_84hHvKGl5hKnAE7zNw')"
   ]
  },
  {
   "cell_type": "code",
   "execution_count": null,
   "metadata": {},
   "outputs": [],
   "source": [
    "newx = {}\n",
    "for key in list(x.keys()):\n",
    "    if key != 'categories':\n",
    "        try:\n",
    "            valeval = ast.literal_eval(x[key]) \n",
    "            newx[key] = valeval\n",
    "        except:\n",
    "            newx[str(key) + '_' + str(x[key])] = True\n",
    "    else:\n",
    "        newx[key] = x[key]"
   ]
  },
  {
   "cell_type": "code",
   "execution_count": null,
   "metadata": {},
   "outputs": [],
   "source": [
    "newx"
   ]
  },
  {
   "cell_type": "code",
   "execution_count": 15,
   "metadata": {},
   "outputs": [
    {
     "data": {
      "text/plain": [
       "defaultdict(dict,\n",
       "            {'u2q_84hHvKGl5hKnAE7zNw': {'Alcohol': 'full_bar',\n",
       "              'Ambience_casual': True,\n",
       "              'Ambience_classy': False,\n",
       "              'Ambience_divey': False,\n",
       "              'Ambience_hipster': False,\n",
       "              'Ambience_intimate': False,\n",
       "              'Ambience_romantic': False,\n",
       "              'Ambience_touristy': False,\n",
       "              'Ambience_trendy': False,\n",
       "              'Ambience_upscale': False,\n",
       "              'BikeParking': True,\n",
       "              'BusinessAcceptsCreditCards': True,\n",
       "              'BusinessParking_garage': False,\n",
       "              'BusinessParking_lot': True,\n",
       "              'BusinessParking_street': False,\n",
       "              'BusinessParking_valet': False,\n",
       "              'BusinessParking_validated': False,\n",
       "              'Caters': True,\n",
       "              'GoodForKids': True,\n",
       "              'GoodForMeal_breakfast': False,\n",
       "              'GoodForMeal_brunch': False,\n",
       "              'GoodForMeal_dessert': False,\n",
       "              'GoodForMeal_dinner': True,\n",
       "              'GoodForMeal_latenight': False,\n",
       "              'GoodForMeal_lunch': True,\n",
       "              'HasTV': True,\n",
       "              'NoiseLevel': 'average',\n",
       "              'OutdoorSeating': False,\n",
       "              'RestaurantsAttire': 'casual',\n",
       "              'RestaurantsDelivery': False,\n",
       "              'RestaurantsGoodForGroups': True,\n",
       "              'RestaurantsPriceRange2': 2,\n",
       "              'RestaurantsReservations': True,\n",
       "              'RestaurantsTakeOut': True,\n",
       "              'WiFi': 'free'}})"
      ]
     },
     "execution_count": 15,
     "metadata": {},
     "output_type": "execute_result"
    }
   ],
   "source": [
    "x"
   ]
  },
  {
   "cell_type": "code",
   "execution_count": null,
   "metadata": {},
   "outputs": [],
   "source": []
  }
 ],
 "metadata": {
  "kernelspec": {
   "display_name": "Python 3",
   "language": "python",
   "name": "python3"
  },
  "language_info": {
   "codemirror_mode": {
    "name": "ipython",
    "version": 3
   },
   "file_extension": ".py",
   "mimetype": "text/x-python",
   "name": "python",
   "nbconvert_exporter": "python",
   "pygments_lexer": "ipython3",
   "version": "3.7.3"
  }
 },
 "nbformat": 4,
 "nbformat_minor": 2
}
