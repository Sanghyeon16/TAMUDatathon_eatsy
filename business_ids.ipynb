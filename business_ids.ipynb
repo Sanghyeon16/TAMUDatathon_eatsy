{
 "cells": [
  {
   "cell_type": "code",
   "execution_count": 1,
   "metadata": {},
   "outputs": [],
   "source": [
    "import json\n",
    "import ast\n",
    "from collections import defaultdict"
   ]
  },
  {
   "cell_type": "code",
   "execution_count": 2,
   "metadata": {},
   "outputs": [],
   "source": [
    "json_file = open(\"../Desktop/yelp_dataset/business.json\", \"r\")"
   ]
  },
  {
   "cell_type": "code",
   "execution_count": 3,
   "metadata": {},
   "outputs": [
    {
     "name": "stderr",
     "output_type": "stream",
     "text": [
      "IOPub data rate exceeded.\n",
      "The notebook server will temporarily stop sending output\n",
      "to the client in order to avoid crashing it.\n",
      "To change this limit, set the config variable\n",
      "`--NotebookApp.iopub_data_rate_limit`.\n",
      "\n",
      "Current values:\n",
      "NotebookApp.iopub_data_rate_limit=1000000.0 (bytes/sec)\n",
      "NotebookApp.rate_limit_window=3.0 (secs)\n",
      "\n"
     ]
    }
   ],
   "source": [
    "business_dict = defaultdict(dict) \n",
    "for line in json_file: \n",
    "    curline = json.loads(line)\n",
    "    if curline['attributes'] is not None:\n",
    "        attributes = {}\n",
    "        for j in curline['attributes'].keys():\n",
    "            attributes[j] = ast.literal_eval(curline['attributes'][j])\n",
    "    else:\n",
    "        attributes = {}\n",
    "    if curline['categories'] is not None:\n",
    "        categories = {'categories': curline['categories'].split(', ')}\n",
    "    else:\n",
    "        categories = {'categories': []}\n",
    "    business_subdict = attributes.copy()\n",
    "    business_subdict.update(categories)\n",
    "    business_dict[curline['business_id']] = business_subdict\n",
    "\n",
    "print(business_dict)"
   ]
  },
  {
   "cell_type": "code",
   "execution_count": null,
   "metadata": {},
   "outputs": [],
   "source": []
  }
 ],
 "metadata": {
  "kernelspec": {
   "display_name": "Python 3",
   "language": "python",
   "name": "python3"
  },
  "language_info": {
   "codemirror_mode": {
    "name": "ipython",
    "version": 3
   },
   "file_extension": ".py",
   "mimetype": "text/x-python",
   "name": "python",
   "nbconvert_exporter": "python",
   "pygments_lexer": "ipython3",
   "version": "3.7.3"
  }
 },
 "nbformat": 4,
 "nbformat_minor": 2
}
