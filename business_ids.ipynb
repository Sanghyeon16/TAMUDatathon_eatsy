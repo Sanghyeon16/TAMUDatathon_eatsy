{
 "cells": [
  {
   "cell_type": "code",
   "execution_count": 56,
   "metadata": {},
   "outputs": [],
   "source": [
    "import json\n",
    "import ast\n",
    "import pandas as pd\n",
    "from collections import defaultdict\n",
    "import time"
   ]
  },
  {
   "cell_type": "code",
   "execution_count": 115,
   "metadata": {},
   "outputs": [],
   "source": [
    "def businessSummary(business_id):\n",
    "#     business_dict = defaultdict(dict) \n",
    "    for line in open(\"yelp_dataset/business.json\", \"r\"): \n",
    "        curline = json.loads(line)\n",
    "        if curline['business_id'] == business_id:\n",
    "            if curline['attributes'] is not None:\n",
    "                attributes = {}\n",
    "                for j in curline['attributes'].keys():\n",
    "                    attributes[j] = ast.literal_eval(curline['attributes'][j])\n",
    "                attributes = pd.io.json.json_normalize(attributes, sep='_').to_dict(orient='records')[0]\n",
    "            else:\n",
    "                attributes = {}\n",
    "            if curline['categories'] is not None:\n",
    "                categories = {'categories': curline['categories'].split(', ')}\n",
    "            else:\n",
    "                categories = {'categories': []}\n",
    "#             categories = flattenfurther(categories)\n",
    "            categories = pd.io.json.json_normalize(categories, sep='_').to_dict(orient='records')[0]\n",
    "            attributes.update(categories)\n",
    "#             business_dict[curline['business_id']] = attributes\n",
    "            #return attributes\n",
    "            newx = {}\n",
    "            for key in list(attributes.keys()):\n",
    "                if key != 'categories':\n",
    "                    try:\n",
    "                        valeval = ast.literal_eval(attributes[key]) \n",
    "                        newx[key] = valeval\n",
    "            #             print(\"try\")\n",
    "                    except:\n",
    "            #             print(\"except\")\n",
    "                        newx[str(key) + '_' + str(attributes[key])] = True\n",
    "                else:\n",
    "                    for cat in attributes[key]:\n",
    "                        newx[str(key) + '_' + str(cat)] = True\n",
    "            return newx"
   ]
  },
  {
   "cell_type": "code",
   "execution_count": 116,
   "metadata": {
    "scrolled": true
   },
   "outputs": [],
   "source": [
    "x = businessSummary('u2q_84hHvKGl5hKnAE7zNw')"
   ]
  },
  {
   "cell_type": "code",
   "execution_count": 117,
   "metadata": {},
   "outputs": [
    {
     "data": {
      "text/plain": [
       "{'Alcohol_full_bar': True,\n",
       " 'Ambience_casual_True': True,\n",
       " 'Ambience_classy_False': True,\n",
       " 'Ambience_divey_False': True,\n",
       " 'Ambience_hipster_False': True,\n",
       " 'Ambience_intimate_False': True,\n",
       " 'Ambience_romantic_False': True,\n",
       " 'Ambience_touristy_False': True,\n",
       " 'Ambience_trendy_False': True,\n",
       " 'Ambience_upscale_False': True,\n",
       " 'BikeParking_True': True,\n",
       " 'BusinessAcceptsCreditCards_True': True,\n",
       " 'BusinessParking_garage_False': True,\n",
       " 'BusinessParking_lot_True': True,\n",
       " 'BusinessParking_street_False': True,\n",
       " 'BusinessParking_valet_False': True,\n",
       " 'BusinessParking_validated_False': True,\n",
       " 'Caters_True': True,\n",
       " 'GoodForKids_True': True,\n",
       " 'GoodForMeal_breakfast_False': True,\n",
       " 'GoodForMeal_brunch_False': True,\n",
       " 'GoodForMeal_dessert_False': True,\n",
       " 'GoodForMeal_dinner_True': True,\n",
       " 'GoodForMeal_latenight_False': True,\n",
       " 'GoodForMeal_lunch_True': True,\n",
       " 'HasTV_True': True,\n",
       " 'NoiseLevel_average': True,\n",
       " 'OutdoorSeating_False': True,\n",
       " 'RestaurantsAttire_casual': True,\n",
       " 'RestaurantsDelivery_False': True,\n",
       " 'RestaurantsGoodForGroups_True': True,\n",
       " 'RestaurantsPriceRange2_2': True,\n",
       " 'RestaurantsReservations_True': True,\n",
       " 'RestaurantsTakeOut_True': True,\n",
       " 'WiFi_free': True,\n",
       " 'categories_Japanese': True,\n",
       " 'categories_Sushi Bars': True,\n",
       " 'categories_Restaurants': True}"
      ]
     },
     "execution_count": 117,
     "metadata": {},
     "output_type": "execute_result"
    }
   ],
   "source": [
    "x"
   ]
  },
  {
   "cell_type": "code",
   "execution_count": null,
   "metadata": {},
   "outputs": [],
   "source": []
  }
 ],
 "metadata": {
  "kernelspec": {
   "display_name": "Python 3",
   "language": "python",
   "name": "python3"
  },
  "language_info": {
   "codemirror_mode": {
    "name": "ipython",
    "version": 3
   },
   "file_extension": ".py",
   "mimetype": "text/x-python",
   "name": "python",
   "nbconvert_exporter": "python",
   "pygments_lexer": "ipython3",
   "version": "3.7.4"
  }
 },
 "nbformat": 4,
 "nbformat_minor": 2
}
