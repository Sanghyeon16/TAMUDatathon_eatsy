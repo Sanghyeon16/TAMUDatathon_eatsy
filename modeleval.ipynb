{
 "cells": [
  {
   "cell_type": "code",
   "execution_count": 1,
   "metadata": {},
   "outputs": [],
   "source": [
    "# -*- coding: utf-8 -*-\n",
    "\"\"\"\n",
    "Created on Sun Oct 20 00:52:40 2019\n",
    "\n",
    "@author: lifel\n",
    "\"\"\"\n",
    "import json\n",
    "import numpy as np\n",
    "import modeltrain as mt"
   ]
  },
  {
   "cell_type": "code",
   "execution_count": 2,
   "metadata": {
    "scrolled": false
   },
   "outputs": [
    {
     "name": "stdout",
     "output_type": "stream",
     "text": [
      "BusinessParking_lot 0.46087539864062343\n",
      "BusinessParking_street 0.4942814996179143\n",
      "GoodForMeal_lunch 0.5590008514951533\n",
      "Specialty Food 0.6164984115184344\n",
      "Desserts 0.6822356662831535\n",
      "Bakeries 0.38661102200764497\n",
      "DogsAllowed 0.38661102200764497\n",
      "Sandwiches 0.3935931659372498\n",
      "Desserts 0.4789036436140297\n",
      "Caters 0.5656002084269078\n",
      "RestaurantsPriceRange2_2 0.36462748661655997\n",
      "GoodForMeal_dessert 0.39319316609077476\n",
      "OutdoorSeating 0.40432888758780694\n",
      "Alcohol_full_bar 0.4226398625691103\n",
      "Caters 0.88483930590087\n",
      "RestaurantsTableService 0.25199426598502317\n",
      "Imported Food 0.25199426598502317\n",
      "Specialty Food 0.29252413255660215\n",
      "RestaurantsDelivery 0.36011207036715326\n",
      "RestaurantsPriceRange2_2 0.4607145799829127\n",
      "GoodForMeal_dinner 0.525108386548588\n",
      "Caters 0.6140641006718097\n",
      "WiFi_free 0.6532549361948579\n",
      "NoiseLevel_average 0.6852155180128231\n",
      "BusinessParking_street 0.7444337884790538\n",
      "GoodForMeal_lunch 0.2991963555059283\n",
      "Food Delivery Services 0.33288768582517686\n",
      "WheelchairAccessible 0.3571626559631341\n",
      "WiFi_free 0.36681290214932644\n",
      "OutdoorSeating 0.3967407219227824\n",
      "Ambience_trendy 0.20922959613538678\n",
      "GoodForMeal_dinner 0.21545021688084356\n",
      "American (New) 0.22830905387420034\n",
      "RestaurantsPriceRange2_2 0.2525660355645146\n",
      "GoodForMeal_dessert 0.27361539163314397\n",
      "WheelchairAccessible 0.38589172415294504\n",
      "NoiseLevel_loud 0.4565314964333311\n",
      "BikeParking 0.4713263853195266\n",
      "Coffee & Tea 0.5700981597167224\n",
      "BusinessParking_street 0.6126575978110975\n",
      "Sandwiches 0.5162174605696952\n",
      "Ethnic Food 0.537905255424515\n",
      "American (New) 0.5559068251232099\n",
      "OutdoorSeating 0.7183429569581236\n",
      "Alcohol_none 1.047061204317331\n",
      "Ice Cream & Frozen Yogurt 0.3135124847240737\n",
      "WiFi_no 0.35146324123018585\n",
      "RestaurantsTakeOut 0.39092848984777206\n",
      "BusinessParking_lot 0.3984641693181974\n",
      "RestaurantsGoodForGroups 0.5502673331304283\n"
     ]
    }
   ],
   "source": [
    "\n",
    "x = mt.findgoodinps()\n",
    "\n",
    "add = []\n",
    "for i in range(10):\n",
    "    _c = mt.makemodel(x[i])\n",
    "    add.append(_c)\n",
    "    "
   ]
  },
  {
   "cell_type": "code",
   "execution_count": null,
   "metadata": {},
   "outputs": [],
   "source": []
  },
  {
   "cell_type": "code",
   "execution_count": 43,
   "metadata": {},
   "outputs": [],
   "source": [
    "# bovec = {}\n",
    "# rejecb = []\n",
    "# for i in list(bo.keys()):\n",
    "#     try:\n",
    "#         bovec[i] = botovec(i)\n",
    "#     except:\n",
    "#         rejecb.append(i)\n",
    "# with open('bovec.txt', 'w') as outfile:\n",
    "#     json.dump(bovec,outfile)"
   ]
  },
  {
   "cell_type": "code",
   "execution_count": 58,
   "metadata": {},
   "outputs": [],
   "source": [
    "with open('bovec.txt') as json_file:\n",
    "    bovec = json.load(json_file)\n",
    "# with open('buisnessoutput.txt') as json_file:\n",
    "#     bo = json.load(json_file)\n",
    "with open('allca.txt') as json_file:\n",
    "    allca = json.load(json_file)\n",
    "with open('business_map.txt') as json_file:\n",
    "    business_map = json.load(json_file)"
   ]
  },
  {
   "cell_type": "code",
   "execution_count": 46,
   "metadata": {},
   "outputs": [],
   "source": [
    "def botovec(bsn):\n",
    "    savesum = bo[bsn]\n",
    "    newsum = {}\n",
    "#         print('got here 1')\n",
    "    if not len(savesum) == 0:\n",
    "#             print('got here 2')\n",
    "        sumset = set(sorted(savesum.keys()))\n",
    "#             catset = set([x for x in list(sumset) if x[:10] == 'categories'])\n",
    "#             resset = sumset - catset\n",
    "#             print(len(savesum),'savesum',savesum)\n",
    "#             print(len(catset),'catset',catset)\n",
    "#             print(len(resset),'resset',resset)\n",
    "        #diff = set(allattrs) - resset\n",
    "        diff = set(allca) - sumset\n",
    "\n",
    "#             print(len(diff),'diff')\n",
    "        for differing in diff:\n",
    "            newsum[differing] = False\n",
    "        for res in sumset:\n",
    "            newsum[res] = savesum[res]\n",
    "#         sortedkeys = sorted(list(savesum.keys()))\n",
    "        if len(newsum) != 831:\n",
    "            print(bsn)\n",
    "            print(len(newsum),'res')\n",
    "            print(sorted(list(newsum.keys())),'\\n')\n",
    "            print(savesum.keys(),'\\n')\n",
    "#             print('\\n')\n",
    "#             print(np.asarray(sorted(newsum.items()))[:,1])\n",
    "        temp = [1 if x == \"True\" else 0 for x in np.asarray(sorted(newsum.items()))[:,1]]\n",
    "#             print(temp)\n",
    "        return temp\n",
    "    else:\n",
    "        raise NameError('no data for buisness')\n",
    "        "
   ]
  },
  {
   "cell_type": "code",
   "execution_count": 72,
   "metadata": {},
   "outputs": [],
   "source": [
    "def meanModel(users, business):\n",
    "    x = np.array(users)\n",
    "    xmean = np.mean(x, axis=0)\n",
    "    xmeanT = np.transpose(xmean)\n",
    "    xScored = np.dot(business, xmeanT)\n",
    "    xTop5 = np.argsort(xScored)[-5:]\n",
    "    return list(zip(xTop5.tolist() , [xScored[i] for i in xTop5]))\n",
    "\n",
    "def medianModel(users, business):\n",
    "    x = np.array(users)\n",
    "    xmean = np.median(x, axis=0)\n",
    "    xmeanT = np.transpose(xmean)\n",
    "    xScored = np.dot(business, xmeanT)\n",
    "    xTop5 = np.argsort(xScored)[-5:]\n",
    "    return list(zip(xTop5.tolist() , [xScored[i] for i in xTop5]))\n",
    "\n",
    "def avgMeanMedian(users, business):\n",
    "    x = np.array(users)\n",
    "    xmean = (np.median(x, axis=0) + np.mean(x, axis=0))/2\n",
    "    xmeanT = np.transpose(xmean)\n",
    "    xScored = np.dot(business, xmeanT)\n",
    "    xTop5 = np.argsort(xScored)[-5:]\n",
    "    return list(zip(xTop5.tolist() , [xScored[i] for i in xTop5]))\n"
   ]
  },
  {
   "cell_type": "code",
   "execution_count": 73,
   "metadata": {},
   "outputs": [],
   "source": [
    "busidict = np.asarray(list(bovec.values()))"
   ]
  },
  {
   "cell_type": "code",
   "execution_count": 74,
   "metadata": {},
   "outputs": [
    {
     "name": "stdout",
     "output_type": "stream",
     "text": [
      "& Probates 0.0\n"
     ]
    }
   ],
   "source": [
    "for idx in idxs:\n",
    "        print(list(sorted(allca))[idx],c[idx])"
   ]
  },
  {
   "cell_type": "code",
   "execution_count": 76,
   "metadata": {},
   "outputs": [
    {
     "name": "stdout",
     "output_type": "stream",
     "text": [
      "[(11457, 1.3414717330559456), (14031, 1.353041077338697), (2509, 1.3984031859226276), (16445, 1.4274456677937364), (8598, 1.4344622984215754)]\n",
      "[(8598, 1.4811062996414788), (19019, 1.524737543903227), (28427, 1.5448761250100143), (9058, 1.551282051537956), (4720, 1.6739139979460729)]\n",
      "[(9058, 1.411178224689973), (28427, 1.4202421862354209), (2509, 1.4315112255398565), (8598, 1.4577842990315268), (4720, 1.4697257101523349)]\n"
     ]
    }
   ],
   "source": [
    "a1 = meanModel(add,busidict)\n",
    "a2 = medianModel(add,busidict)\n",
    "a3 = avgMeanMedian(add,busidict)\n",
    "\n",
    "\n",
    "print(a1)\n",
    "print(a2)\n",
    "print(a3)"
   ]
  },
  {
   "cell_type": "code",
   "execution_count": 61,
   "metadata": {},
   "outputs": [
    {
     "name": "stdout",
     "output_type": "stream",
     "text": [
      "Culinary Dropout\n",
      "The Dressing Room\n",
      "Unwined\n",
      "The Foundry Table & Tap\n",
      "Carson Kitchen\n"
     ]
    }
   ],
   "source": [
    "for idx in a1:\n",
    "        print(business_map[list(bovec.keys())[idx]])\n"
   ]
  },
  {
   "cell_type": "code",
   "execution_count": 62,
   "metadata": {},
   "outputs": [
    {
     "name": "stdout",
     "output_type": "stream",
     "text": [
      "Carson Kitchen\n",
      "Page One\n",
      "Senti Restaurant\n",
      "CoR Tapas & Wine\n",
      "Sorso Wine Room\n"
     ]
    }
   ],
   "source": [
    "for idx in a2:\n",
    "        print(business_map[list(bovec.keys())[idx]])\n"
   ]
  },
  {
   "cell_type": "code",
   "execution_count": 64,
   "metadata": {},
   "outputs": [
    {
     "name": "stdout",
     "output_type": "stream",
     "text": [
      "CoR Tapas & Wine\n",
      "Senti Restaurant\n",
      "Unwined\n",
      "Carson Kitchen\n",
      "Sorso Wine Room\n"
     ]
    }
   ],
   "source": [
    "for idx in a3:\n",
    "        print(business_map[list(bovec.keys())[idx]])\n",
    "\n"
   ]
  },
  {
   "cell_type": "code",
   "execution_count": null,
   "metadata": {},
   "outputs": [],
   "source": []
  }
 ],
 "metadata": {
  "kernelspec": {
   "display_name": "Python 3",
   "language": "python",
   "name": "python3"
  },
  "language_info": {
   "codemirror_mode": {
    "name": "ipython",
    "version": 3
   },
   "file_extension": ".py",
   "mimetype": "text/x-python",
   "name": "python",
   "nbconvert_exporter": "python",
   "pygments_lexer": "ipython3",
   "version": "3.7.4"
  }
 },
 "nbformat": 4,
 "nbformat_minor": 2
}
