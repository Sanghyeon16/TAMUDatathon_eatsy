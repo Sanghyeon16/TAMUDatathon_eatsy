{
 "cells": [
  {
   "cell_type": "code",
   "execution_count": 31,
   "metadata": {},
   "outputs": [],
   "source": [
    "# -*- coding: utf-8 -*-\n",
    "\"\"\"\n",
    "Created on Sun Oct 20 00:52:40 2019\n",
    "\n",
    "@author: lifel\n",
    "\"\"\"\n",
    "import json\n",
    "import numpy as np\n",
    "import modeltrain as mt"
   ]
  },
  {
   "cell_type": "code",
   "execution_count": 32,
   "metadata": {},
   "outputs": [
    {
     "name": "stdout",
     "output_type": "stream",
     "text": [
      "The autoreload extension is already loaded. To reload it, use:\n",
      "  %reload_ext autoreload\n"
     ]
    }
   ],
   "source": [
    "%load_ext autoreload\n",
    "%autoreload 2"
   ]
  },
  {
   "cell_type": "code",
   "execution_count": null,
   "metadata": {},
   "outputs": [],
   "source": []
  },
  {
   "cell_type": "code",
   "execution_count": 34,
   "metadata": {},
   "outputs": [],
   "source": [
    "# bovec = {}\n",
    "# rejecb = []\n",
    "# for i in list(bo.keys()):\n",
    "#     try:\n",
    "#         bovec[i] = botovec(i)\n",
    "#     except:\n",
    "#         rejecb.append(i)\n",
    "# with open('bovec.txt', 'w') as outfile:\n",
    "#     json.dump(bovec,outfile)"
   ]
  },
  {
   "cell_type": "code",
   "execution_count": 35,
   "metadata": {},
   "outputs": [],
   "source": [
    "with open('bovec.txt') as json_file:\n",
    "    bovec = json.load(json_file)\n",
    "# with open('buisnessoutput.txt') as json_file:\n",
    "#     bo = json.load(json_file)\n",
    "with open('allca.txt') as json_file:\n",
    "    allca = json.load(json_file)\n",
    "with open('business_map.txt') as json_file:\n",
    "    business_map = json.load(json_file)"
   ]
  },
  {
   "cell_type": "code",
   "execution_count": 36,
   "metadata": {},
   "outputs": [],
   "source": [
    "def botovec(bsn):\n",
    "    savesum = bo[bsn]\n",
    "    newsum = {}\n",
    "#         print('got here 1')\n",
    "    if not len(savesum) == 0:\n",
    "#             print('got here 2')\n",
    "        sumset = set(sorted(savesum.keys()))\n",
    "#             catset = set([x for x in list(sumset) if x[:10] == 'categories'])\n",
    "#             resset = sumset - catset\n",
    "#             print(len(savesum),'savesum',savesum)\n",
    "#             print(len(catset),'catset',catset)\n",
    "#             print(len(resset),'resset',resset)\n",
    "        #diff = set(allattrs) - resset\n",
    "        diff = set(allca) - sumset\n",
    "\n",
    "#             print(len(diff),'diff')\n",
    "        for differing in diff:\n",
    "            newsum[differing] = False\n",
    "        for res in sumset:\n",
    "            newsum[res] = savesum[res]\n",
    "#         sortedkeys = sorted(list(savesum.keys()))\n",
    "        if len(newsum) != 831:\n",
    "            print(bsn)\n",
    "            print(len(newsum),'res')\n",
    "            print(sorted(list(newsum.keys())),'\\n')\n",
    "            print(savesum.keys(),'\\n')\n",
    "#             print('\\n')\n",
    "#             print(np.asarray(sorted(newsum.items()))[:,1])\n",
    "        temp = [1 if x == \"True\" else 0 for x in np.asarray(sorted(newsum.items()))[:,1]]\n",
    "#             print(temp)\n",
    "        return temp\n",
    "    else:\n",
    "        raise NameError('no data for buisness')\n",
    "        "
   ]
  },
  {
   "cell_type": "code",
   "execution_count": 64,
   "metadata": {},
   "outputs": [],
   "source": [
    "busidict = np.asarray(list(bovec.values()))"
   ]
  },
  {
   "cell_type": "code",
   "execution_count": 212,
   "metadata": {},
   "outputs": [],
   "source": [
    "def make_pretty(attr):\n",
    "    pretty_string = \"\"\n",
    "    for i in range(len(attr)):\n",
    "        char = attr[i]\n",
    "\n",
    "        if char == '_':\n",
    "            pretty_string += ' '\n",
    "            continue\n",
    "\n",
    "        if char.isupper() and not attr[i - 1].isupper() and not attr[i + 1].isupper() and i != 0:\n",
    "            pretty_string += ' '\n",
    "\n",
    "        pretty_string += char\n",
    "\n",
    "    return pretty_string"
   ]
  },
  {
   "cell_type": "code",
   "execution_count": 282,
   "metadata": {},
   "outputs": [],
   "source": [
    "def buildprefs(c):\n",
    "    tojson = {}\n",
    "    arr = np.asarray([round(i,2) for i in c])\n",
    "    arr = (arr-min(arr))/(max(arr)-min(arr))\n",
    "    marr = (arr+1)*100000\n",
    "#     print(marr)\n",
    "#     print(max(marr),min(marr))\n",
    "    top_idx = np.argsort(c)[-10:]\n",
    "    top_values = [c[i] for i in top_idx]\n",
    "    for idx in top_idx:\n",
    "        tojson[idx] =int(round( marr[idx],0))\n",
    "    \n",
    "    #print(np.array([np.array(xi) for xi in list(tojson.values())]))\n",
    "   \n",
    "    arr2 = np.asarray(list(tojson.values()))\n",
    "#     print(type(arr2),arr2)\n",
    "    arr2 = (arr2-min(arr2))/(max(arr2)-min(arr2)) * 10\n",
    "#     print(arr2)\n",
    "    arr2 = [int(round( i,0)) for i in arr2]\n",
    "    r = 3\n",
    "    #list(sorted(allca))[]\n",
    "    oldkey = lambda i: list(sorted(allca))[int(list(tojson.keys())[i])]\n",
    "    return {make_pretty(oldkey(i)):arr2[9 - i] for i in range(r)},[int(list(tojson.keys())[i]) for i in range(r)]"
   ]
  },
  {
   "cell_type": "code",
   "execution_count": 283,
   "metadata": {},
   "outputs": [],
   "source": [
    "def meanModel(users, business):\n",
    "    tojson = {}\n",
    "    x = np.array(users)\n",
    "    xmean = np.mean(x, axis=0)\n",
    "    \n",
    "    grabprefs = buildprefs(xmean)\n",
    "    \n",
    "    with open('grouppreferences.txt', 'w') as outfile:\n",
    "        json.dump(grabprefs[0],outfile)\n",
    "    \n",
    "    print(grabprefs[1])\n",
    "    \n",
    "    xmeanT = np.transpose(xmean)\n",
    "    xScored = np.dot(business, xmeanT)\n",
    "    xScored = (xScored-min(xScored))/(max(xScored)-min(xScored))\n",
    "    nxScored = (xScored+1)*100\n",
    "    xTop5 = np.argsort(xScored)[-6:]\n",
    "    \n",
    "    buss = {}\n",
    "    for busid in xTop5:\n",
    "        prefs = {}\n",
    "        for grouppref in grabprefs[1]:\n",
    "            prefs[make_pretty(list(sorted(allca))[grouppref])] = bovec[list(bovec.keys())[int(busid)]][grouppref]\n",
    "        \n",
    "    \n",
    "        \n",
    "        buss[make_pretty(business_map[list(bovec.keys())[int(busid)]])] = prefs \n",
    "        \n",
    "    with open('busselections.txt', 'w') as outfile:\n",
    "        json.dump(buss,outfile)\n",
    "    return buss"
   ]
  },
  {
   "cell_type": "code",
   "execution_count": 284,
   "metadata": {
    "scrolled": false
   },
   "outputs": [
    {
     "name": "stdout",
     "output_type": "stream",
     "text": [
      "[ 0.          0.83312833  0.99986333  1.16659833  1.33333333  1.33333333\n",
      "  1.833265    2.          2.33319667 10.        ]\n",
      "[ 0.          0.          0.40003456  0.40003456  0.80006912  1.60013824\n",
      "  1.60013824  3.19984448  6.0000864  10.        ]\n",
      "[815, 419, 198]\n"
     ]
    }
   ],
   "source": [
    "with open('selectedUsers.json') as json_file:\n",
    "    selus = json.load(json_file)\n",
    "\n",
    "add = []\n",
    "for i in range(len(list(selus.keys()))):\n",
    "    _c = mt.makemodel(list(selus.keys())[i])[0]\n",
    "    add.append(_c)\n",
    "    \n",
    "    \n",
    "a1 = meanModel(add,busidict)"
   ]
  },
  {
   "cell_type": "code",
   "execution_count": null,
   "metadata": {},
   "outputs": [],
   "source": []
  },
  {
   "cell_type": "code",
   "execution_count": null,
   "metadata": {},
   "outputs": [],
   "source": []
  },
  {
   "cell_type": "code",
   "execution_count": null,
   "metadata": {},
   "outputs": [],
   "source": []
  }
 ],
 "metadata": {
  "kernelspec": {
   "display_name": "Python 3",
   "language": "python",
   "name": "python3"
  },
  "language_info": {
   "codemirror_mode": {
    "name": "ipython",
    "version": 3
   },
   "file_extension": ".py",
   "mimetype": "text/x-python",
   "name": "python",
   "nbconvert_exporter": "python",
   "pygments_lexer": "ipython3",
   "version": "3.7.4"
  }
 },
 "nbformat": 4,
 "nbformat_minor": 2
}
