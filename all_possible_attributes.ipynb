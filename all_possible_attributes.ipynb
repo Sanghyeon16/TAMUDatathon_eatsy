{
 "cells": [
  {
   "cell_type": "code",
   "execution_count": 9,
   "metadata": {},
   "outputs": [],
   "source": [
    "import json\n",
    "import collections\n",
    "import ast"
   ]
  },
  {
   "cell_type": "code",
   "execution_count": 10,
   "metadata": {},
   "outputs": [],
   "source": [
    "json_file = open('yelp_dataset/business.json')"
   ]
  },
  {
   "cell_type": "code",
   "execution_count": 3,
   "metadata": {
    "scrolled": true
   },
   "outputs": [
    {
     "data": {
      "text/plain": [
       "<_io.TextIOWrapper name='yelp_dataset/business.json' mode='r' encoding='UTF-8'>"
      ]
     },
     "execution_count": 3,
     "metadata": {},
     "output_type": "execute_result"
    }
   ],
   "source": [
    "json_file"
   ]
  },
  {
   "cell_type": "code",
   "execution_count": 34,
   "metadata": {},
   "outputs": [],
   "source": [
    "# x = 0\n",
    "attrs = collections.defaultdict(set)\n",
    "for line in open('yelp_dataset/business.json','r'):\n",
    "    curline = json.loads(line)\n",
    "    if curline['attributes'] != None:\n",
    "#             if x < 20:\n",
    "        for param in list(curline['attributes'].keys()):\n",
    "            paramvalue = attrs[param]\n",
    "            subparam = ast.literal_eval(curline['attributes'][param])\n",
    "            if type(subparam) == dict or type(subparam) == type(collections.defaultdict(set)):\n",
    "                if type(paramvalue) == set:\n",
    "#                     print('yeet')\n",
    "                    paramvalue = collections.defaultdict(set)\n",
    "                if type(paramvalue) == type(collections.defaultdict(set)):\n",
    "#                     print('yote')\n",
    "                    for subparamname in list(subparam.keys()):\n",
    "                        subparamvalue = subparam[subparamname]\n",
    "#                         print(subparamvalue, type(subparamvalue))\n",
    "                        if type(subparamvalue) == str:\n",
    "                            if subparamvalue[:1] == \"u\":\n",
    "                                paramvalue[subparamname].add(subparamvalue[1:])\n",
    "                            else:\n",
    "                                paramvalue[subparamname].add(subparamvalue)\n",
    "                        else:\n",
    "                            paramvalue[subparamname].add(subparamvalue)\n",
    "                attrs[param] = paramvalue\n",
    "            else:\n",
    "#                     print('6eet')\n",
    "                if not subparam == None:\n",
    "                    subparamvalue = curline['attributes'][param]\n",
    "                    if type(subparamvalue) == str:\n",
    "                        if subparamvalue[:1] == \"u\":\n",
    "#                             print(subparamvalue,subparamvalue[1:])\n",
    "                            paramvalue.add(subparamvalue[1:])\n",
    "                        else:\n",
    "                            paramvalue.add(subparamvalue)\n",
    "                    else:\n",
    "                         paramvalue.add(subparamvalue)\n",
    "#                     if subparamvalue[:1] == \"u\":\n",
    "#                         print(subparamvalue,subparamvalue[1:],type(subparamvalue))\n",
    "#                     paramvalue.add(subparamvalue)\n",
    "                    attrs[param] = paramvalue\n",
    "#         x += 1\n",
    "\n"
   ]
  },
  {
   "cell_type": "code",
   "execution_count": 35,
   "metadata": {},
   "outputs": [
    {
     "data": {
      "text/plain": [
       "defaultdict(set,\n",
       "            {'GoodForKids': {'False', 'True'},\n",
       "             'RestaurantsReservations': {'False', 'True'},\n",
       "             'GoodForMeal': defaultdict(set,\n",
       "                         {'dessert': {False, True},\n",
       "                          'latenight': {False, True},\n",
       "                          'lunch': {False, True},\n",
       "                          'dinner': {False, True},\n",
       "                          'brunch': {False, True},\n",
       "                          'breakfast': {False, True}}),\n",
       "             'BusinessParking': defaultdict(set,\n",
       "                         {'garage': {False, True},\n",
       "                          'street': {False, True},\n",
       "                          'validated': {False, True},\n",
       "                          'lot': {False, True},\n",
       "                          'valet': {False, True}}),\n",
       "             'Caters': {'False', 'True'},\n",
       "             'NoiseLevel': {\"'average'\", \"'loud'\", \"'quiet'\", \"'very_loud'\"},\n",
       "             'RestaurantsTableService': {'False', 'True'},\n",
       "             'RestaurantsTakeOut': {'False', 'True'},\n",
       "             'RestaurantsPriceRange2': {'1', '2', '3', '4'},\n",
       "             'OutdoorSeating': {'False', 'True'},\n",
       "             'BikeParking': {'False', 'True'},\n",
       "             'Ambience': defaultdict(set,\n",
       "                         {'romantic': {False, True},\n",
       "                          'intimate': {False, True},\n",
       "                          'classy': {False, True},\n",
       "                          'hipster': {False, True},\n",
       "                          'divey': {False, True},\n",
       "                          'touristy': {False, True},\n",
       "                          'trendy': {False, True},\n",
       "                          'upscale': {False, True},\n",
       "                          'casual': {False, True}}),\n",
       "             'HasTV': {'False', 'True'},\n",
       "             'WiFi': {\"'free'\", \"'no'\", \"'paid'\"},\n",
       "             'Alcohol': {\"'beer_and_wine'\", \"'full_bar'\", \"'none'\"},\n",
       "             'RestaurantsAttire': {\"'casual'\", \"'dressy'\", \"'formal'\"},\n",
       "             'RestaurantsGoodForGroups': {'False', 'True'},\n",
       "             'RestaurantsDelivery': {'False', 'True'},\n",
       "             'BusinessAcceptsCreditCards': {'False', 'True'},\n",
       "             'BusinessAcceptsBitcoin': {'False', 'True'},\n",
       "             'ByAppointmentOnly': {'False', 'True'},\n",
       "             'AcceptsInsurance': {'False', 'True'},\n",
       "             'Music': defaultdict(set,\n",
       "                         {'dj': {False, True},\n",
       "                          'background_music': {False, True},\n",
       "                          'no_music': {False},\n",
       "                          'jukebox': {False, True},\n",
       "                          'live': {False, True},\n",
       "                          'video': {False, True},\n",
       "                          'karaoke': {False, True}}),\n",
       "             'GoodForDancing': {'False', 'True'},\n",
       "             'CoatCheck': {'False', 'True'},\n",
       "             'HappyHour': {'False', 'True'},\n",
       "             'BestNights': defaultdict(set,\n",
       "                         {'monday': {False, True},\n",
       "                          'tuesday': {False, True},\n",
       "                          'friday': {False, True},\n",
       "                          'wednesday': {False, True},\n",
       "                          'thursday': {False, True},\n",
       "                          'sunday': {False, True},\n",
       "                          'saturday': {False, True}}),\n",
       "             'WheelchairAccessible': {'False', 'True'},\n",
       "             'DogsAllowed': {'False', 'True'},\n",
       "             'BYOBCorkage': {\"'no'\", \"'yes_corkage'\", \"'yes_free'\"},\n",
       "             'DriveThru': {'False', 'True'},\n",
       "             'Smoking': {\"'no'\", \"'outdoor'\", \"'yes'\"},\n",
       "             'AgesAllowed': {\"'18plus'\", \"'19plus'\", \"'21plus'\", \"'allages'\"},\n",
       "             'HairSpecializesIn': defaultdict(set,\n",
       "                         {'straightperms': {False, True},\n",
       "                          'coloring': {False, True},\n",
       "                          'extensions': {False, True},\n",
       "                          'africanamerican': {False, True},\n",
       "                          'curly': {False, True},\n",
       "                          'kids': {False, True},\n",
       "                          'perms': {False, True},\n",
       "                          'asian': {False, True}}),\n",
       "             'Corkage': {'False', 'True'},\n",
       "             'BYOB': {'False', 'True'},\n",
       "             'DietaryRestrictions': defaultdict(set,\n",
       "                         {'dairy-free': {False, True},\n",
       "                          'gluten-free': {False, True},\n",
       "                          'vegan': {False, True},\n",
       "                          'kosher': {False},\n",
       "                          'halal': {False, True},\n",
       "                          'soy-free': {False, True},\n",
       "                          'vegetarian': {False, True}}),\n",
       "             'Open24Hours': {'False', 'True'},\n",
       "             'RestaurantsCounterService': {'False', 'True'}})"
      ]
     },
     "execution_count": 35,
     "metadata": {},
     "output_type": "execute_result"
    }
   ],
   "source": [
    "attrs"
   ]
  },
  {
   "cell_type": "code",
   "execution_count": null,
   "metadata": {},
   "outputs": [],
   "source": []
  }
 ],
 "metadata": {
  "kernelspec": {
   "display_name": "Python 3",
   "language": "python",
   "name": "python3"
  },
  "language_info": {
   "codemirror_mode": {
    "name": "ipython",
    "version": 3
   },
   "file_extension": ".py",
   "mimetype": "text/x-python",
   "name": "python",
   "nbconvert_exporter": "python",
   "pygments_lexer": "ipython3",
   "version": "3.7.4"
  }
 },
 "nbformat": 4,
 "nbformat_minor": 2
}
