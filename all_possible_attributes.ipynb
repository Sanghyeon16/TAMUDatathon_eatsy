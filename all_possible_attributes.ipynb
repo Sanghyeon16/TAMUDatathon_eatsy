{
 "cells": [
  {
   "cell_type": "code",
   "execution_count": 80,
   "metadata": {},
   "outputs": [],
   "source": [
    "import json\n",
    "import ast"
   ]
  },
  {
   "cell_type": "code",
   "execution_count": 10,
   "metadata": {},
   "outputs": [],
   "source": [
    "json_file = open('yelp_dataset/business.json')"
   ]
  },
  {
   "cell_type": "code",
   "execution_count": 11,
   "metadata": {
    "scrolled": true
   },
   "outputs": [
    {
     "data": {
      "text/plain": [
       "<_io.TextIOWrapper name='yelp_dataset/business.json' mode='r' encoding='UTF-8'>"
      ]
     },
     "execution_count": 11,
     "metadata": {},
     "output_type": "execute_result"
    }
   ],
   "source": [
    "json_file"
   ]
  },
  {
   "cell_type": "code",
   "execution_count": 21,
   "metadata": {},
   "outputs": [],
   "source": [
    "import collections"
   ]
  },
  {
   "cell_type": "code",
   "execution_count": 117,
   "metadata": {},
   "outputs": [],
   "source": [
    "def rec(curline,i):\n",
    "     \n",
    "    if curline['attributes'] != None:\n",
    "            for i in list(curline['attributes'].keys()):\n",
    "                paramvalue = attrs[i]\n",
    "                paramvalue.add(curline['attributes'][i])\n",
    "                attrs[i] = paramvalue\n",
    "\n",
    "# x = 0\n",
    "attrs = collections.defaultdict(set)\n",
    "for line in open('yelp_dataset/business.json','r'):\n",
    "    curline = json.loads(line)\n",
    "    if curline['attributes'] != None:\n",
    "#             if x < 20:\n",
    "        for param in list(curline['attributes'].keys()):\n",
    "            paramvalue = attrs[param]\n",
    "            subparam = ast.literal_eval(curline['attributes'][param])\n",
    "            if type(subparam) == dict or type(subparam) == type(collections.defaultdict(set)):\n",
    "                if type(paramvalue) == set:\n",
    "#                     print('yeet')\n",
    "                    paramvalue = collections.defaultdict(set)\n",
    "                if type(paramvalue) == type(collections.defaultdict(set)):\n",
    "#                     print('yote')\n",
    "                    for subparamname in list(subparam.keys()):\n",
    "                        paramvalue[subparamname].add(subparam[subparamname])\n",
    "                attrs[param] = paramvalue\n",
    "            else:\n",
    "#                     print('6eet')\n",
    "                if not subparam == None:\n",
    "                    paramvalue.add(curline['attributes'][param])\n",
    "                    attrs[i] = paramvalue\n",
    "#         x += 1"
   ]
  },
  {
   "cell_type": "code",
   "execution_count": 118,
   "metadata": {
    "scrolled": false
   },
   "outputs": [
    {
     "data": {
      "text/plain": [
       "defaultdict(set,\n",
       "            {'GoodForKids': {'False', 'True'},\n",
       "             'RestaurantsReservations': {'False', 'True'},\n",
       "             'GoodForMeal': defaultdict(set,\n",
       "                         {'dessert': {False, True},\n",
       "                          'latenight': {False, True},\n",
       "                          'lunch': {False, True},\n",
       "                          'dinner': {False, True},\n",
       "                          'brunch': {False, True},\n",
       "                          'breakfast': {False, True}}),\n",
       "             'BusinessParking': defaultdict(set,\n",
       "                         {'garage': {False, True},\n",
       "                          'street': {False, True},\n",
       "                          'validated': {False, True},\n",
       "                          'lot': {False, True},\n",
       "                          'valet': {False, True}}),\n",
       "             'Caters': {'False', 'True'},\n",
       "             'NoiseLevel': {\"'average'\",\n",
       "              \"'loud'\",\n",
       "              \"'quiet'\",\n",
       "              \"'very_loud'\",\n",
       "              \"u'average'\",\n",
       "              \"u'loud'\",\n",
       "              \"u'quiet'\",\n",
       "              \"u'very_loud'\"},\n",
       "             'RestaurantsTableService': {'False', 'True'},\n",
       "             'RestaurantsTakeOut': {'False', 'True'},\n",
       "             'RestaurantsPriceRange2': {'1', '2', '3', '4'},\n",
       "             'OutdoorSeating': {'False', 'True'},\n",
       "             'BikeParking': {'False', 'True'},\n",
       "             'Ambience': defaultdict(set,\n",
       "                         {'romantic': {False, True},\n",
       "                          'intimate': {False, True},\n",
       "                          'classy': {False, True},\n",
       "                          'hipster': {False, True},\n",
       "                          'divey': {False, True},\n",
       "                          'touristy': {False, True},\n",
       "                          'trendy': {False, True},\n",
       "                          'upscale': {False, True},\n",
       "                          'casual': {False, True}}),\n",
       "             'HasTV': {'False', 'True'},\n",
       "             'WiFi': {\"'free'\",\n",
       "              \"'no'\",\n",
       "              \"'paid'\",\n",
       "              \"u'free'\",\n",
       "              \"u'no'\",\n",
       "              \"u'paid'\"},\n",
       "             'Alcohol': {\"'beer_and_wine'\",\n",
       "              \"'full_bar'\",\n",
       "              \"'none'\",\n",
       "              \"u'beer_and_wine'\",\n",
       "              \"u'full_bar'\",\n",
       "              \"u'none'\"},\n",
       "             'RestaurantsAttire': {\"'casual'\",\n",
       "              \"'dressy'\",\n",
       "              \"'formal'\",\n",
       "              \"u'casual'\",\n",
       "              \"u'dressy'\",\n",
       "              \"u'formal'\"},\n",
       "             'RestaurantsGoodForGroups': {'False', 'True'},\n",
       "             'RestaurantsDelivery': {'False', 'True'},\n",
       "             'BusinessAcceptsCreditCards': {'False', 'True'},\n",
       "             'BusinessAcceptsBitcoin': {'False', 'True'},\n",
       "             'ByAppointmentOnly': {'False', 'True'},\n",
       "             'AcceptsInsurance': {'False', 'True'},\n",
       "             'Music': defaultdict(set,\n",
       "                         {'dj': {False, True},\n",
       "                          'background_music': {False, True},\n",
       "                          'no_music': {False},\n",
       "                          'jukebox': {False, True},\n",
       "                          'live': {False, True},\n",
       "                          'video': {False, True},\n",
       "                          'karaoke': {False, True}}),\n",
       "             'GoodForDancing': {'False', 'True'},\n",
       "             'CoatCheck': {'False', 'True'},\n",
       "             'HappyHour': {'False', 'True'},\n",
       "             'BestNights': defaultdict(set,\n",
       "                         {'monday': {False, True},\n",
       "                          'tuesday': {False, True},\n",
       "                          'friday': {False, True},\n",
       "                          'wednesday': {False, True},\n",
       "                          'thursday': {False, True},\n",
       "                          'sunday': {False, True},\n",
       "                          'saturday': {False, True}}),\n",
       "             'WheelchairAccessible': {'False', 'True'},\n",
       "             'DogsAllowed': {'False', 'True'},\n",
       "             'BYOBCorkage': {\"'no'\",\n",
       "              \"'yes_corkage'\",\n",
       "              \"'yes_free'\",\n",
       "              \"u'no'\",\n",
       "              \"u'yes_corkage'\",\n",
       "              \"u'yes_free'\"},\n",
       "             'DriveThru': {'False', 'True'},\n",
       "             'Smoking': {\"'no'\",\n",
       "              \"'outdoor'\",\n",
       "              \"'yes'\",\n",
       "              \"u'no'\",\n",
       "              \"u'outdoor'\",\n",
       "              \"u'yes'\"},\n",
       "             'AgesAllowed': {\"u'18plus'\",\n",
       "              \"u'19plus'\",\n",
       "              \"u'21plus'\",\n",
       "              \"u'allages'\"},\n",
       "             'HairSpecializesIn': defaultdict(set,\n",
       "                         {'straightperms': {False, True},\n",
       "                          'coloring': {False, True},\n",
       "                          'extensions': {False, True},\n",
       "                          'africanamerican': {False, True},\n",
       "                          'curly': {False, True},\n",
       "                          'kids': {False, True},\n",
       "                          'perms': {False, True},\n",
       "                          'asian': {False, True}}),\n",
       "             'Corkage': {'False', 'True'},\n",
       "             'BYOB': {'False', 'True'},\n",
       "             'DietaryRestrictions': defaultdict(set,\n",
       "                         {'dairy-free': {False, True},\n",
       "                          'gluten-free': {False, True},\n",
       "                          'vegan': {False, True},\n",
       "                          'kosher': {False},\n",
       "                          'halal': {False, True},\n",
       "                          'soy-free': {False, True},\n",
       "                          'vegetarian': {False, True}}),\n",
       "             'Open24Hours': {'False', 'True'},\n",
       "             'RestaurantsCounterService': {'False', 'True'}})"
      ]
     },
     "execution_count": 118,
     "metadata": {},
     "output_type": "execute_result"
    }
   ],
   "source": [
    "attrs"
   ]
  },
  {
   "cell_type": "code",
   "execution_count": null,
   "metadata": {},
   "outputs": [],
   "source": []
  }
 ],
 "metadata": {
  "kernelspec": {
   "display_name": "Python 3",
   "language": "python",
   "name": "python3"
  },
  "language_info": {
   "codemirror_mode": {
    "name": "ipython",
    "version": 3
   },
   "file_extension": ".py",
   "mimetype": "text/x-python",
   "name": "python",
   "nbconvert_exporter": "python",
   "pygments_lexer": "ipython3",
   "version": "3.7.4"
  }
 },
 "nbformat": 4,
 "nbformat_minor": 2
}
