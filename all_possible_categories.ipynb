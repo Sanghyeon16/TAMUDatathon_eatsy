{
 "cells": [
  {
   "cell_type": "code",
   "execution_count": 2,
   "metadata": {},
   "outputs": [],
   "source": [
    "import json"
   ]
  },
  {
   "cell_type": "code",
   "execution_count": 25,
   "metadata": {},
   "outputs": [],
   "source": [
    "# List all possible categories\n",
    "\n",
    "categories = set([])\n",
    "\n",
    "for business in open('yelp_dataset/business.json', 'r'):\n",
    "    business_obj = json.loads(business)\n",
    "#     if business_obj['business_id'] == 'B-XT_Mf8yDJW9j6RZY3nvw':\n",
    "#         print(\"Yeah eet\")\n",
    "#         if \"Food\" in business_obj[\"categories\"].replace(\"'\", '').replace('\"', '').split(', '):\n",
    "#             print('fasd')\n",
    "#             for c in business_obj[\"categories\"].replace(\"'\", '').replace('\"', '').split(', '):\n",
    "#                 print(c)\n",
    "#                 categories.add(c.strip(' ').replace(\"'\", '').replace('\"', ''))\n",
    "    if business_obj[\"categories\"] == None:\n",
    "        continue\n",
    "    if \"Food\" in business_obj[\"categories\"].replace(\"'\", '').replace('\"', '').split(', '):\n",
    "        for c in business_obj[\"categories\"].replace(\"'\", '').replace('\"', '').split(', '):\n",
    "#             print(c)\n",
    "            categories.add(c.strip(' ').replace(\"'\", '').replace('\"', ''))"
   ]
  },
  {
   "cell_type": "code",
   "execution_count": 26,
   "metadata": {},
   "outputs": [],
   "source": [
    "with open('allcats.txt', 'w') as outfile:\n",
    "    json.dump(list(sorted(categories)),outfile)"
   ]
  },
  {
   "cell_type": "code",
   "execution_count": null,
   "metadata": {},
   "outputs": [],
   "source": []
  }
 ],
 "metadata": {
  "kernelspec": {
   "display_name": "Python 3",
   "language": "python",
   "name": "python3"
  },
  "language_info": {
   "codemirror_mode": {
    "name": "ipython",
    "version": 3
   },
   "file_extension": ".py",
   "mimetype": "text/x-python",
   "name": "python",
   "nbconvert_exporter": "python",
   "pygments_lexer": "ipython3",
   "version": "3.7.4"
  }
 },
 "nbformat": 4,
 "nbformat_minor": 2
}
