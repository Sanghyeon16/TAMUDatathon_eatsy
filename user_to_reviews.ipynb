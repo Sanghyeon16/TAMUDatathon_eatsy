{
 "cells": [
  {
   "cell_type": "code",
   "execution_count": 4,
   "metadata": {},
   "outputs": [],
   "source": [
    "import json"
   ]
  },
  {
   "cell_type": "code",
   "execution_count": 5,
   "metadata": {},
   "outputs": [],
   "source": [
    "# Map business id to business name\n",
    "# { \"1SWheh84yJXfytovILXOAQ\" : \"Arizona Biltmore Golf Club\" }\n",
    "business_map = {}\n",
    "\n",
    "for business in open('yelp_dataset/business.json', 'r'):\n",
    "    business_obj = json.loads(business)\n",
    "    \n",
    "    business_map[business_obj[\"business_id\"]] = business_obj[\"name\"]"
   ]
  },
  {
   "cell_type": "code",
   "execution_count": 6,
   "metadata": {},
   "outputs": [],
   "source": [
    "# Map user id to user name\n",
    "# { 'l6BmjZMeQD3rDxWUbiAiow': 'Rashmi', ... }\n",
    "user_map = {}\n",
    "\n",
    "for user in open('yelp_dataset/user.json', 'r'):\n",
    "    user_obj = json.loads(user)\n",
    "    \n",
    "    user_map[user_obj[\"user_id\"]] = user_obj[\"name\"]"
   ]
  },
  {
   "cell_type": "code",
   "execution_count": 7,
   "metadata": {},
   "outputs": [
    {
     "name": "stdout",
     "output_type": "stream",
     "text": [
      "{'Stefan': {'MountainView Hospital': 1.0}, 'Jackie': {'Kelly Cardenas Salon - Hard Rock Hotel & Casino': 5.0}, 'Wilhelmina': {'J. Philipp Centers for Family and Cosmetic Dentistry': 5.0}, 'Simon': {'Regal Beagle Pub': 5.0}, 'Reilly': {'White Teeth AZ': 1.0}, 'A': {'La Tavola Italiana': 4.0}, 'Kristy': {'Tracy Dessert': 3.0}, 'Paul': {'FOX Sports Grill': 1.0}, 'Beer': {'Portside': 2.0}, 'Nathan': {\"Fry's\": 3.0}, 'Carol': {'Pinball Hall Of Fame': 4.0}, 'Clint': {'Beast of Bourbon Bar & Grill': 1.0}, 'Pamela': {'Pazzo': 4.0}, 'Rosy': {'Red Carpet VIP': 4.0}, 'Jenny': {'Pho Phuong': 1.0}, 'Payam': {\"Jz's Pizza\": 5.0}, 'Kim': {'Choolaah Indian BBQ': 4.0}, 'Chong': {'Chino Bandido': 3.0}, 'Gianna': {'Slim Chickens': 5.0}, 'Andrew': {'Indie Ale House': 3.0}, 'Laura': {'Casanova Brothers Pizza': 5.0}}\n"
     ]
    }
   ],
   "source": [
    "# Create user to reviews to stars\n",
    "# { user : { business_id : stars, ... }, ... }\n",
    "\n",
    "users = {}\n",
    "\n",
    "x = 0\n",
    "\n",
    "for review in open('yelp_dataset/review.json', 'r'):\n",
    "    review_obj = json.loads(review)\n",
    "    \n",
    "    user = review_obj[\"user_id\"]\n",
    "    user = user_map[user]\n",
    "    business = review_obj[\"business_id\"]\n",
    "    business = business_map[business]\n",
    "    stars = review_obj[\"stars\"]\n",
    "    \n",
    "    if user not in users:\n",
    "        users[user] = {}\n",
    "\n",
    "    users[user][business] = stars\n",
    "    \n",
    "    x += 1\n",
    "    if x > 20:\n",
    "        break\n",
    "    \n",
    "print(users)"
   ]
  },
  {
   "cell_type": "code",
   "execution_count": null,
   "metadata": {},
   "outputs": [],
   "source": []
  }
 ],
 "metadata": {
  "kernelspec": {
   "display_name": "Python 3",
   "language": "python",
   "name": "python3"
  },
  "language_info": {
   "codemirror_mode": {
    "name": "ipython",
    "version": 3
   },
   "file_extension": ".py",
   "mimetype": "text/x-python",
   "name": "python",
   "nbconvert_exporter": "python",
   "pygments_lexer": "ipython3",
   "version": "3.7.4"
  }
 },
 "nbformat": 4,
 "nbformat_minor": 2
}
