{
 "cells": [
  {
   "cell_type": "code",
   "execution_count": 8,
   "metadata": {},
   "outputs": [],
   "source": [
    "import json"
   ]
  },
  {
   "cell_type": "code",
   "execution_count": 12,
   "metadata": {},
   "outputs": [
    {
     "name": "stdout",
     "output_type": "stream",
     "text": [
      "{'hG7b0MtEbXx5QzbzE6C_VA': {'ujmEBvifdJM6h6RLv4wQIg': 1.0}, 'yXQM5uF2jS6es16SJzNHfg': {'NZnhc2sEQy3RmzKTZnqtwQ': 5.0}, 'n6-Gk65cPZL6Uz8qRm3NYw': {'WTqjgwHlXbSFevF32_DJVw': 5.0}, 'dacAIZ6fTM6mqwW5uxkskg': {'ikCg8xy5JIg_NGPx-MSIDA': 5.0}, 'ssoyf2_x0EQMed6fgHeMyQ': {'b1b1eb3uo-w561D0ZfCEiQ': 1.0}, 'w31MKYsNFMrjhWxxAb5wIw': {'eU_713ec6fTGNO4BegRaww': 4.0}, 'jlu4CztcSxrKx56ba1a5AQ': {'3fw2X5bZYeW9xCz_zGhOHg': 3.0}, 'd6xvYpyzcfbF_AZ8vMB7QA': {'zvO-PJCpNk4fgAVUnExYAA': 1.0}, 'sG_h0dIzTKWa3Q6fmb4u-g': {'b2jN2mm9Wf3RcrZCgfo1cg': 2.0}, 'nMeCE5-xsdleyxYuNZ_7rA': {'oxwGyA17NL6c5t1Etg5WgQ': 3.0}, 'FIk4lQQu1eTe2EpzQ4xhBA': {'8mIrX_LrOnAqWsB5JrOojQ': 4.0}, '-mA3-1mN4JIEkqOtdbNXCQ': {'mRUVMJkUGxrByzMQ2MuOpA': 1.0}, 'GYNnVehQeXjty0xH7-6Fhw': {'FxLfqxdYPA6Z85PFKaqLrg': 4.0}, 'bAhqAPoWaZYcyYi7bs024Q': {'LUN6swQYa4xJKaM_UEUOEw': 4.0}, 'TpyOT5E16YASd7EWjLQlrw': {'AakkkTuGZA2KBodKi2_u8A': 1.0}, 'NJlxGtouq06hhC7sS2ECYw': {'YvrylyuWgbP90RgMqZQVnQ': 5.0}, '86J5DwcFk4f4In1Vxe2TvA': {'NyLYY8q1-H3hfsTwuwLPCg': 4.0}, 'JSrP-dUmLlwZiI7Dp3PQ2A': {'cHdJXLlKNWixBXpDwEGb_A': 3.0}, '6Fz_nus_OG4gar721OKgZA': {'6lj2BJ4tJeu7db5asGHQ4w': 5.0}, '_N7Ndn29bpll_961oPeEfw': {'y-Iw6dZflNix4BdwIyTNGA': 3.0}, 'DzZ7piLBF-WsJxqosfJgtA': {'qx6WhZ42eDKmBchZDax4dQ': 5.0}}\n"
     ]
    }
   ],
   "source": [
    "# Create user to reviews to stars\n",
    "# { user : { business_id : stars, ... }, ... }\n",
    "\n",
    "users = {}\n",
    "\n",
    "x = 0\n",
    "\n",
    "for review in open('yelp_dataset/review.json', 'r'):\n",
    "    review_obj = json.loads(review)\n",
    "    \n",
    "    user = review_obj[\"user_id\"]\n",
    "    business = review_obj[\"business_id\"]\n",
    "    stars = review_obj[\"stars\"]\n",
    "    \n",
    "    if user not in users:\n",
    "        users[user] = {}\n",
    "\n",
    "    users[user][business] = stars\n",
    "    \n",
    "    x += 1\n",
    "    if x > 20:\n",
    "        break\n",
    "    \n",
    "print(users)"
   ]
  },
  {
   "cell_type": "code",
   "execution_count": null,
   "metadata": {},
   "outputs": [],
   "source": []
  }
 ],
 "metadata": {
  "kernelspec": {
   "display_name": "Python 3",
   "language": "python",
   "name": "python3"
  },
  "language_info": {
   "codemirror_mode": {
    "name": "ipython",
    "version": 3
   },
   "file_extension": ".py",
   "mimetype": "text/x-python",
   "name": "python",
   "nbconvert_exporter": "python",
   "pygments_lexer": "ipython3",
   "version": "3.7.4"
  }
 },
 "nbformat": 4,
 "nbformat_minor": 2
}
