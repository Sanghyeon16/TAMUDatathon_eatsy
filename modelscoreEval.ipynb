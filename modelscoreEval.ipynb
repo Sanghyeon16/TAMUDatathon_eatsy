{
 "cells": [
  {
   "cell_type": "code",
   "execution_count": 1,
   "metadata": {},
   "outputs": [],
   "source": [
    "# -*- coding: utf-8 -*-\n",
    "\"\"\"\n",
    "Created on Sun Oct 20 00:52:40 2019\n",
    "\n",
    "@author: lifel\n",
    "\"\"\"\n",
    "import json\n",
    "import numpy as np\n",
    "import modeltrain as mt"
   ]
  },
  {
   "cell_type": "code",
   "execution_count": 2,
   "metadata": {
    "scrolled": false
   },
   "outputs": [
    {
     "name": "stdout",
     "output_type": "stream",
     "text": [
      "RestaurantsPriceRange2_2 0.32059313490237773\n",
      "BusinessParking_lot 0.37164879220895036\n",
      "Caters 0.5326239048614279\n",
      "Bakeries 0.5516977745056231\n",
      "Grocery 0.6125956467963862\n",
      "Pizza 0.25123245077776346\n",
      "Music Venues 0.28909169033834914\n",
      "Breakfast & Brunch 0.28909169033834914\n",
      "Nightlife 0.3363384330391462\n",
      "RestaurantsPriceRange2_2 0.5873880491930035\n",
      "Specialty Food 0.46792386724039176\n",
      "Ethnic Food 0.5496226769320959\n",
      "Noodles 0.5809224217140606\n",
      "Chinese 0.5953463756830958\n",
      "Taiwanese 0.5953463756830958\n",
      "Alcohol_none 0.21037710666337317\n",
      "Chinese 0.3899655622072813\n",
      "Grocery 0.39490566143407885\n",
      "GoodForMeal_brunch 0.4019615382323676\n",
      "RestaurantsPriceRange2_1 0.5194134890785255\n",
      "Automotive 0.5888048514783748\n",
      "DriveThru 0.6140759056852887\n",
      "Tires 0.6182551754821007\n",
      "Fast Food 0.6804716915364064\n",
      "Burgers 0.7245089540509907\n",
      "Italian 0.38738559847808784\n",
      "Event Planning & Services 0.3886123980892686\n",
      "Caterers 0.3886123980892686\n",
      "Tapas Bars 0.42458768052960905\n",
      "BYOBCorkage_no 0.42458768052960905\n",
      "Caters 0.46895143033238934\n",
      "Breakfast & Brunch 0.46914833427630465\n",
      "GoodForMeal_brunch 0.48003787742410015\n",
      "Coffee & Tea 0.5573219432811678\n",
      "Bagels 0.8912718267455765\n",
      "Caribbean 0.4066620149840629\n",
      "Farmers Market 0.4516745009949986\n",
      "Caters 0.5160935012941025\n",
      "WiFi_free 0.570883679414839\n",
      "RestaurantsTakeOut 0.640275174223267\n",
      "WiFi_free 0.3530983372455545\n",
      "Caters 0.3845926846213088\n",
      "BusinessAcceptsCreditCards 0.4459890600999665\n",
      "RestaurantsReservations 0.4626455352738099\n",
      "RestaurantsPriceRange2_2 0.7936372413478104\n",
      "Caribbean 0.457789099624613\n",
      "Food Delivery Services 0.457789099624613\n",
      "Health Markets 0.478484454230394\n",
      "RestaurantsDelivery 0.6256869292424615\n",
      "Thai 0.725187470876768\n"
     ]
    }
   ],
   "source": [
    "\n",
    "x = mt.findgoodinps()\n",
    "\n",
    "add = []\n",
    "for i in range(10):\n",
    "    _c = mt.makemodel(x[i])\n",
    "    add.append(_c)\n",
    "    "
   ]
  },
  {
   "cell_type": "code",
   "execution_count": 4,
   "metadata": {
    "collapsed": true
   },
   "outputs": [
    {
     "ename": "FileNotFoundError",
     "evalue": "[Errno 2] No such file or directory: 'business_map.txt'",
     "output_type": "error",
     "traceback": [
      "\u001b[1;31m---------------------------------------------------------------------------\u001b[0m",
      "\u001b[1;31mFileNotFoundError\u001b[0m                         Traceback (most recent call last)",
      "\u001b[1;32m<ipython-input-4-4b1d6024ae84>\u001b[0m in \u001b[0;36m<module>\u001b[1;34m()\u001b[0m\n\u001b[0;32m      5\u001b[0m \u001b[1;32mwith\u001b[0m \u001b[0mopen\u001b[0m\u001b[1;33m(\u001b[0m\u001b[1;34m'allca.txt'\u001b[0m\u001b[1;33m)\u001b[0m \u001b[1;32mas\u001b[0m \u001b[0mjson_file\u001b[0m\u001b[1;33m:\u001b[0m\u001b[1;33m\u001b[0m\u001b[0m\n\u001b[0;32m      6\u001b[0m     \u001b[0mallca\u001b[0m \u001b[1;33m=\u001b[0m \u001b[0mjson\u001b[0m\u001b[1;33m.\u001b[0m\u001b[0mload\u001b[0m\u001b[1;33m(\u001b[0m\u001b[0mjson_file\u001b[0m\u001b[1;33m)\u001b[0m\u001b[1;33m\u001b[0m\u001b[0m\n\u001b[1;32m----> 7\u001b[1;33m \u001b[1;32mwith\u001b[0m \u001b[0mopen\u001b[0m\u001b[1;33m(\u001b[0m\u001b[1;34m'business_map.txt'\u001b[0m\u001b[1;33m)\u001b[0m \u001b[1;32mas\u001b[0m \u001b[0mjson_file\u001b[0m\u001b[1;33m:\u001b[0m\u001b[1;33m\u001b[0m\u001b[0m\n\u001b[0m\u001b[0;32m      8\u001b[0m     \u001b[0mbusiness_map\u001b[0m \u001b[1;33m=\u001b[0m \u001b[0mjson\u001b[0m\u001b[1;33m.\u001b[0m\u001b[0mload\u001b[0m\u001b[1;33m(\u001b[0m\u001b[0mjson_file\u001b[0m\u001b[1;33m)\u001b[0m\u001b[1;33m\u001b[0m\u001b[0m\n",
      "\u001b[1;31mFileNotFoundError\u001b[0m: [Errno 2] No such file or directory: 'business_map.txt'"
     ]
    }
   ],
   "source": [
    "with open('bovec.txt') as json_file:\n",
    "    bovec = json.load(json_file)\n",
    "# with open('buisnessoutput.txt') as json_file:\n",
    "#     bo = json.load(json_file)\n",
    "with open('allca.txt') as json_file:\n",
    "    allca = json.load(json_file)\n",
    "with open('business_map.txt') as json_file:\n",
    "    business_map = json.load(json_file)"
   ]
  },
  {
   "cell_type": "code",
   "execution_count": 5,
   "metadata": {},
   "outputs": [],
   "source": [
    "def botovec(bsn):\n",
    "    savesum = bo[bsn]\n",
    "    newsum = {}\n",
    "#         print('got here 1')\n",
    "    if not len(savesum) == 0:\n",
    "#             print('got here 2')\n",
    "        sumset = set(sorted(savesum.keys()))\n",
    "#             catset = set([x for x in list(sumset) if x[:10] == 'categories'])\n",
    "#             resset = sumset - catset\n",
    "#             print(len(savesum),'savesum',savesum)\n",
    "#             print(len(catset),'catset',catset)\n",
    "#             print(len(resset),'resset',resset)\n",
    "        #diff = set(allattrs) - resset\n",
    "        diff = set(allca) - sumset\n",
    "\n",
    "#             print(len(diff),'diff')\n",
    "        for differing in diff:\n",
    "            newsum[differing] = False\n",
    "        for res in sumset:\n",
    "            newsum[res] = savesum[res]\n",
    "#         sortedkeys = sorted(list(savesum.keys()))\n",
    "        if len(newsum) != 831:\n",
    "            print(bsn)\n",
    "            print(len(newsum),'res')\n",
    "            print(sorted(list(newsum.keys())),'\\n')\n",
    "            print(savesum.keys(),'\\n')\n",
    "#             print('\\n')\n",
    "#             print(np.asarray(sorted(newsum.items()))[:,1])\n",
    "        temp = [1 if x == \"True\" else 0 for x in np.asarray(sorted(newsum.items()))[:,1]]\n",
    "#             print(temp)\n",
    "        return temp\n",
    "    else:\n",
    "        raise NameError('no data for buisness')\n",
    "        "
   ]
  },
  {
   "cell_type": "code",
   "execution_count": 6,
   "metadata": {},
   "outputs": [],
   "source": [
    "def meanModel(users, business):\n",
    "    x = np.array(users)\n",
    "    xmean = np.mean(x, axis=0)\n",
    "    xmeanT = np.transpose(xmean)\n",
    "    xScored = np.dot(business, xmeanT)\n",
    "    xTop5 = np.argsort(xScored)[-5:]\n",
    "    return list(zip(xTop5.tolist() , [xScored[i] for i in xTop5]))\n",
    "\n",
    "def medianModel(users, business):\n",
    "    x = np.array(users)\n",
    "    xmean = np.median(x, axis=0)\n",
    "    xmeanT = np.transpose(xmean)\n",
    "    xScored = np.dot(business, xmeanT)\n",
    "    xTop5 = np.argsort(xScored)[-5:]\n",
    "    return list(zip(xTop5.tolist() , [xScored[i] for i in xTop5]))\n",
    "\n",
    "def avgMeanMedian(users, business):\n",
    "    x = np.array(users)\n",
    "    xmean = (np.median(x, axis=0) + np.mean(x, axis=0))/2\n",
    "    xmeanT = np.transpose(xmean)\n",
    "    xScored = np.dot(business, xmeanT)\n",
    "    xTop5 = np.argsort(xScored)[-5:]\n",
    "    return list(zip(xTop5.tolist() , [xScored[i] for i in xTop5]))\n"
   ]
  },
  {
   "cell_type": "code",
   "execution_count": 7,
   "metadata": {},
   "outputs": [],
   "source": [
    "busidict = np.asarray(list(bovec.values()))"
   ]
  },
  {
   "cell_type": "code",
   "execution_count": 14,
   "metadata": {},
   "outputs": [
    {
     "name": "stdout",
     "output_type": "stream",
     "text": [
      "[(28905, 0.7814192461941132), (23322, 0.7872067158048315), (3618, 0.8092670107070992), (27293, 0.8122761001473691), (7221, 0.8173081732782059)]\n",
      "[(21824, 0.6371238999880333), (27722, 0.6418429994499251), (5476, 0.6680686026020185), (12308, 0.6757518391099582), (28076, 0.6853920409494321)]\n",
      "[(26489, 0.6557022545316977), (23322, 0.6699510612139573), (5476, 0.6715001905237954), (27722, 0.6743229864245898), (12308, 0.6905674690232582)]\n"
     ]
    }
   ],
   "source": [
    "Top5 = meanModel(add,busidict)\n",
    "\n",
    "\n",
    "print(Top5)\n"
   ]
  },
  {
   "cell_type": "code",
   "execution_count": 61,
   "metadata": {},
   "outputs": [
    {
     "name": "stdout",
     "output_type": "stream",
     "text": [
      "Culinary Dropout\n",
      "The Dressing Room\n",
      "Unwined\n",
      "The Foundry Table & Tap\n",
      "Carson Kitchen\n"
     ]
    }
   ],
   "source": [
    "for idx in Top5:\n",
    "        print(business_map[list(bovec.keys())[idx]])\n"
   ]
  }
 ],
 "metadata": {
  "kernelspec": {
   "display_name": "Python 3",
   "language": "python",
   "name": "python3"
  },
  "language_info": {
   "codemirror_mode": {
    "name": "ipython",
    "version": 3
   },
   "file_extension": ".py",
   "mimetype": "text/x-python",
   "name": "python",
   "nbconvert_exporter": "python",
   "pygments_lexer": "ipython3",
   "version": "3.6.5"
  }
 },
 "nbformat": 4,
 "nbformat_minor": 2
}
