{
 "cells": [
  {
   "cell_type": "code",
   "execution_count": 4,
   "metadata": {},
   "outputs": [],
   "source": [
    "import json\n",
    "import ast\n",
    "import pandas as pd\n",
    "from collections import defaultdict\n",
    "import time"
   ]
  },
  {
   "cell_type": "code",
   "execution_count": 5,
   "metadata": {},
   "outputs": [],
   "source": [
    "def businessSummary(business_id):\n",
    "#     business_dict = defaultdict(dict) \n",
    "    for line in open(\"yelp_dataset/business.json\", \"r\"): \n",
    "        curline = json.loads(line)\n",
    "        if curline['business_id'] == business_id:\n",
    "            if curline['attributes'] is not None:\n",
    "                attributes = {}\n",
    "                for j in curline['attributes'].keys():\n",
    "                    attributes[j] = ast.literal_eval(curline['attributes'][j])\n",
    "                attributes = pd.io.json.json_normalize(attributes, sep='_').to_dict(orient='records')[0]\n",
    "            else:\n",
    "                attributes = {}\n",
    "            if curline['categories'] is not None:\n",
    "                categories = {'categories': curline['categories'].split(', ')}\n",
    "            else:\n",
    "                categories = {'categories': []}\n",
    "#             categories = flattenfurther(categories)\n",
    "            categories = pd.io.json.json_normalize(categories, sep='_').to_dict(orient='records')[0]\n",
    "            attributes.update(categories)\n",
    "#             business_dict[curline['business_id']] = attributes\n",
    "            #return attributes\n",
    "    newx = {}\n",
    "    for key in list(attributes.keys()):\n",
    "        if key != 'categories':\n",
    "            try:\n",
    "                valeval = ast.literal_eval(attributes[key]) \n",
    "                newx[key] = valeval\n",
    "    #             print(\"try\")\n",
    "            except:\n",
    "    #             print(\"except\")\n",
    "                newx[str(key) + '_' + str(attributes[key])] = True\n",
    "        else:\n",
    "            for cat in attributes[key]:\n",
    "                newx[str(key) + '_' + str(cat)] = True\n",
    "    return newx"
   ]
  },
  {
   "cell_type": "code",
   "execution_count": 2,
   "metadata": {},
   "outputs": [
    {
     "ename": "SyntaxError",
     "evalue": "invalid syntax (<ipython-input-2-064420497aee>, line 8)",
     "output_type": "error",
     "traceback": [
      "\u001b[0;36m  File \u001b[0;32m\"<ipython-input-2-064420497aee>\"\u001b[0;36m, line \u001b[0;32m8\u001b[0m\n\u001b[0;31m    for i in range9\u001b[0m\n\u001b[0m                   ^\u001b[0m\n\u001b[0;31mSyntaxError\u001b[0m\u001b[0;31m:\u001b[0m invalid syntax\n"
     ]
    }
   ],
   "source": [
    "businessSummary('u2q_84hHvKGl5hKnAE7zNw')\n",
    "rel\n",
    "for i in range(0,100):\n",
    "    \n",
    "    np.asarray(list(newran().values()))"
   ]
  },
  {
   "cell_type": "code",
   "execution_count": null,
   "metadata": {},
   "outputs": [],
   "source": []
  },
  {
   "cell_type": "code",
   "execution_count": null,
   "metadata": {},
   "outputs": [],
   "source": []
  },
  {
   "cell_type": "code",
   "execution_count": 3,
   "metadata": {},
   "outputs": [
    {
     "ename": "NameError",
     "evalue": "name '_logistic_regression_path' is not defined",
     "output_type": "error",
     "traceback": [
      "\u001b[0;31m---------------------------------------------------------------------------\u001b[0m",
      "\u001b[0;31mNameError\u001b[0m                                 Traceback (most recent call last)",
      "\u001b[0;32m<ipython-input-3-f170c8c5c8a1>\u001b[0m in \u001b[0;36m<module>\u001b[0;34m\u001b[0m\n\u001b[0;32m----> 1\u001b[0;31m \u001b[0mlrcoefs\u001b[0m \u001b[0;34m,\u001b[0m \u001b[0m_\u001b[0m \u001b[0;34m,\u001b[0m \u001b[0m_\u001b[0m \u001b[0;34m=\u001b[0m \u001b[0m_logistic_regression_path\u001b[0m\u001b[0;34m(\u001b[0m\u001b[0mX\u001b[0m \u001b[0;34m=\u001b[0m \u001b[0mvecs\u001b[0m\u001b[0;34m,\u001b[0m\u001b[0my\u001b[0m \u001b[0;34m=\u001b[0m \u001b[0mlabels\u001b[0m\u001b[0;34m,\u001b[0m\u001b[0mfit_intercept\u001b[0m \u001b[0;34m=\u001b[0m \u001b[0;32mFalse\u001b[0m\u001b[0;34m,\u001b[0m\u001b[0msolver\u001b[0m \u001b[0;34m=\u001b[0m \u001b[0;34m'newton-cg'\u001b[0m\u001b[0;34m,\u001b[0m\u001b[0mmulti_class\u001b[0m \u001b[0;34m=\u001b[0m \u001b[0;34m'ovr'\u001b[0m\u001b[0;34m,\u001b[0m\u001b[0mmax_iter\u001b[0m \u001b[0;34m=\u001b[0m \u001b[0;36m1000\u001b[0m\u001b[0;34m)\u001b[0m\u001b[0;34m\u001b[0m\u001b[0;34m\u001b[0m\u001b[0m\n\u001b[0m",
      "\u001b[0;31mNameError\u001b[0m: name '_logistic_regression_path' is not defined"
     ]
    }
   ],
   "source": [
    "lrcoefs , _ , _ = _logistic_regression_path(X = vecs,y = labels,fit_intercept = False,solver = 'newton-cg',multi_class = 'ovr',max_iter = 1000)"
   ]
  },
  {
   "cell_type": "code",
   "execution_count": null,
   "metadata": {},
   "outputs": [],
   "source": []
  }
 ],
 "metadata": {
  "kernelspec": {
   "display_name": "Python 3",
   "language": "python",
   "name": "python3"
  },
  "language_info": {
   "codemirror_mode": {
    "name": "ipython",
    "version": 3
   },
   "file_extension": ".py",
   "mimetype": "text/x-python",
   "name": "python",
   "nbconvert_exporter": "python",
   "pygments_lexer": "ipython3",
   "version": "3.7.4"
  }
 },
 "nbformat": 4,
 "nbformat_minor": 2
}
