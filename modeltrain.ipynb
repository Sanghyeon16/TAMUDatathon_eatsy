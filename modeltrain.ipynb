{
 "cells": [
  {
   "cell_type": "code",
   "execution_count": 568,
   "metadata": {},
   "outputs": [],
   "source": [
    "import json\n",
    "import ast\n",
    "import pandas as pd\n",
    "from collections import defaultdict\n",
    "import time\n",
    "import numpy as np\n",
    "import scipy.stats\n",
    "from sklearn.linear_model import LinearRegression\n",
    "from sklearn.linear_model.logistic import LogisticRegression\n",
    "from sklearn.preprocessing import PolynomialFeatures\n",
    "from sklearn.linear_model.logistic import _logistic_regression_path\n",
    "import matplotlib.pyplot as plt\n",
    "import copy"
   ]
  },
  {
   "cell_type": "code",
   "execution_count": 550,
   "metadata": {},
   "outputs": [],
   "source": [
    "with open('buisnessoutput.txt') as json_file:\n",
    "    bo = json.load(json_file)\n",
    "with open('users.txt') as json_file:\n",
    "    users = json.load(json_file)"
   ]
  },
  {
   "cell_type": "code",
   "execution_count": 551,
   "metadata": {},
   "outputs": [],
   "source": [
    "with open('allattrs.txt') as json_file:\n",
    "    allattrs = json.load(json_file)\n",
    "with open('allcats.txt') as json_file:\n",
    "    allcats = json.load(json_file)\n",
    "allca = allcats + allattrs\n",
    "len(allca)\n",
    "with open('allca.txt', 'w') as outfile:\n",
    "    json.dump(list(sorted(allca)),outfile)"
   ]
  },
  {
   "cell_type": "code",
   "execution_count": 552,
   "metadata": {},
   "outputs": [],
   "source": [
    "def vecsperuser(usr):\n",
    "    vecs={}\n",
    "#     print(usr)\n",
    "    j = 0\n",
    "    inp2 = list(users[usr].keys())\n",
    "#     print(inp2)\n",
    "    for bsn in inp2:\n",
    "#         print ('              ',end = '\\r')\n",
    "#         print (round(100*i / len(inp),2),round((100*j / len(inp2)),2),end='\\r')\n",
    "        print (round(100*j / len(inp2),2),end='\\r')\n",
    "#         print(bsn)\n",
    "        savesum = bo[bsn]\n",
    "        newsum = {}\n",
    "#         print('got here 1')\n",
    "        if not len(savesum) == 0:\n",
    "#             print('got here 2')\n",
    "            sumset = set(sorted(savesum.keys()))\n",
    "#             catset = set([x for x in list(sumset) if x[:10] == 'categories'])\n",
    "#             resset = sumset - catset\n",
    "#             print(len(savesum),'savesum',savesum)\n",
    "#             print(len(catset),'catset',catset)\n",
    "#             print(len(resset),'resset',resset)\n",
    "            #diff = set(allattrs) - resset\n",
    "            diff = set(allca) - sumset\n",
    "    \n",
    "#             print(len(diff),'diff')\n",
    "            for differing in diff:\n",
    "                newsum[differing] = False\n",
    "            for res in sumset:\n",
    "                newsum[res] = savesum[res]\n",
    "    #         sortedkeys = sorted(list(savesum.keys()))\n",
    "            if len(newsum) != 831:\n",
    "                print(bsn)\n",
    "                print(len(newsum),'res')\n",
    "                print(sorted(list(newsum.keys())),'\\n')\n",
    "                print(savesum.keys(),'\\n')\n",
    "#             print('\\n')\n",
    "#             print(np.asarray(sorted(newsum.items()))[:,1])\n",
    "            temp = [1 if x == \"True\" else 0 for x in np.asarray(sorted(newsum.items()))[:,1]]\n",
    "#             print(temp)\n",
    "            vecs[bsn] = temp\n",
    "#         print('got here 3')\n",
    "        j += 1\n",
    "    return vecs"
   ]
  },
  {
   "cell_type": "code",
   "execution_count": 561,
   "metadata": {},
   "outputs": [],
   "source": [
    "def findgoodinps_helper(inp):\n",
    "    vinp = vecsperuser(inp)\n",
    "    vecs = np.asarray(list(vinp.values()))\n",
    "    label = []\n",
    "    for bsn in vinp.keys():\n",
    "        users[inp]\n",
    "        label.append(users[inp][bsn])\n",
    "\n",
    "    if len(label) > 10 and not min(label) == max(label):\n",
    "#         print('\\r')\n",
    "        return inp\n",
    "#     c = LogisticRegression(random_state=0, solver='lbfgs').fit(vecs, label).coef_"
   ]
  },
  {
   "cell_type": "code",
   "execution_count": 566,
   "metadata": {},
   "outputs": [],
   "source": [
    "def findgoodinps(limit = 100):\n",
    "    goodinp = []\n",
    "    for inp in list(users.keys())[0:limit]:\n",
    "        goodinp.append(findgoodinps_helper(inp))\n",
    "    goodinp = [x for x in goodinp if not x == None]\n",
    "    return goodinp"
   ]
  },
  {
   "cell_type": "code",
   "execution_count": 571,
   "metadata": {},
   "outputs": [
    {
     "data": {
      "text/plain": [
       "'FIk4lQQu1eTe2EpzQ4xhBA'"
      ]
     },
     "execution_count": 571,
     "metadata": {},
     "output_type": "execute_result"
    }
   ],
   "source": [
    "goodinp[2]\n"
   ]
  },
  {
   "cell_type": "code",
   "execution_count": 531,
   "metadata": {},
   "outputs": [],
   "source": [
    "def makemodel(inp):\n",
    "    vinp = vecsperuser(inp)\n",
    "    vecs = np.asarray(list(vinp.values()))\n",
    "    label = []\n",
    "    for bsn in vinp.keys():\n",
    "        users[inp]\n",
    "        label.append(users[inp][bsn])\n",
    "    c = LogisticRegression(random_state=0, solver='lbfgs').fit(vecs, label).coef_[0]\n",
    "    xc = cop\n",
    "    top_idx = np.argsort(c)[-5:]\n",
    "    top_values = [c[i] for i in top_idx]\n",
    "    for idx in top_idx:\n",
    "        print(list(sorted(allca))[idx],c[idx])\n",
    "    return c"
   ]
  },
  {
   "cell_type": "code",
   "execution_count": 532,
   "metadata": {},
   "outputs": [
    {
     "name": "stdout",
     "output_type": "stream",
     "text": [
      "RestaurantsPriceRange2_2 0.36462748661655997\n",
      "GoodForMeal_dessert 0.39319316609077476\n",
      "OutdoorSeating 0.40432888758780694\n",
      "Alcohol_full_bar 0.4226398625691103\n",
      "Caters 0.88483930590087\n"
     ]
    }
   ],
   "source": [
    "# c = makemodel(goodinp[2])"
   ]
  }
 ],
 "metadata": {
  "kernelspec": {
   "display_name": "Python 3",
   "language": "python",
   "name": "python3"
  },
  "language_info": {
   "codemirror_mode": {
    "name": "ipython",
    "version": 3
   },
   "file_extension": ".py",
   "mimetype": "text/x-python",
   "name": "python",
   "nbconvert_exporter": "python",
   "pygments_lexer": "ipython3",
   "version": "3.7.4"
  }
 },
 "nbformat": 4,
 "nbformat_minor": 2
}
